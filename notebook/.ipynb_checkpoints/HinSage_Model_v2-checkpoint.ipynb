{
 "cells": [
  {
   "cell_type": "markdown",
   "metadata": {},
   "source": [
    "## HinSage  on Amazon Dataset"
   ]
  },
  {
   "cell_type": "code",
   "execution_count": 1,
   "metadata": {},
   "outputs": [],
   "source": [
    "%load_ext autoreload\n",
    "%autoreload 2\n",
    "import json\n",
    "import pandas as pd\n",
    "import numpy as np\n",
    "from sklearn import preprocessing, feature_extraction, model_selection\n",
    "from sklearn.metrics import mean_absolute_error, mean_squared_error\n",
    "\n",
    "import stellargraph as sg\n",
    "from stellargraph.mapper import HinSAGELinkGenerator\n",
    "from stellargraph.layer import HinSAGE, link_regression\n",
    "from tensorflow.keras import Model, optimizers, losses, metrics\n",
    "\n",
    "import multiprocessing\n",
    "from stellargraph import datasets\n",
    "from stellargraph import StellarGraph\n",
    "from IPython.display import display, HTML\n",
    "import matplotlib.pyplot as plt\n",
    "import numpy as np\n",
    "import networkx as nx\n",
    "import sys"
   ]
  },
  {
   "cell_type": "code",
   "execution_count": 2,
   "metadata": {},
   "outputs": [],
   "source": [
    "sys.path.append(\"/Users/msinghal/SourceCodes/Personal/graphranko/GraphicoRango/steller_graph_implementation\")\n",
    "from datasets import Amz_Dataset\n",
    "from model import GraphicoRango"
   ]
  },
  {
   "cell_type": "code",
   "execution_count": 3,
   "metadata": {},
   "outputs": [],
   "source": [
    "??Amz_Dataset"
   ]
  },
  {
   "cell_type": "markdown",
   "metadata": {},
   "source": []
  },
  {
   "cell_type": "markdown",
   "metadata": {},
   "source": [
    "# Load Dataset"
   ]
  },
  {
   "cell_type": "code",
   "execution_count": 4,
   "metadata": {},
   "outputs": [
    {
     "name": "stdout",
     "output_type": "stream",
     "text": [
      "Index(['item', 'user', 'rating'], dtype='object')\n",
      "Index(['user', 'user_id'], dtype='object')\n"
     ]
    }
   ],
   "source": [
    "dataset = Amz_Dataset()\n",
    "users, items, edge_ratings = dataset.load(base_path=\"/Users/msinghal/SourceCodes/Personal/graphranko/Data/amazon-electronics-v2\")\n",
    "\n"
   ]
  },
  {
   "cell_type": "code",
   "execution_count": 5,
   "metadata": {},
   "outputs": [
    {
     "name": "stdout",
     "output_type": "stream",
     "text": [
      "number of users (100, 1),  number of items (2721, 545), number of user item rating (3112, 550)\n"
     ]
    }
   ],
   "source": [
    "print(\"number of users {},  number of items {}, number of user item rating {}\".format(users.shape, items.shape, edge_ratings.shape))"
   ]
  },
  {
   "cell_type": "code",
   "execution_count": 6,
   "metadata": {},
   "outputs": [
    {
     "data": {
      "text/html": [
       "<div>\n",
       "<style scoped>\n",
       "    .dataframe tbody tr th:only-of-type {\n",
       "        vertical-align: middle;\n",
       "    }\n",
       "\n",
       "    .dataframe tbody tr th {\n",
       "        vertical-align: top;\n",
       "    }\n",
       "\n",
       "    .dataframe thead th {\n",
       "        text-align: right;\n",
       "    }\n",
       "</style>\n",
       "<table border=\"1\" class=\"dataframe\">\n",
       "  <thead>\n",
       "    <tr style=\"text-align: right;\">\n",
       "      <th></th>\n",
       "      <th>item</th>\n",
       "      <th>user</th>\n",
       "      <th>rating</th>\n",
       "      <th>user_id</th>\n",
       "      <th>item_id</th>\n",
       "      <th>Wireless Access Points</th>\n",
       "      <th>TV Accessories &amp; Parts</th>\n",
       "      <th>Fans &amp;amp; Cooling</th>\n",
       "      <th>Receivers &amp; Amplifiers</th>\n",
       "      <th>Portable Audio &amp; Video</th>\n",
       "      <th>...</th>\n",
       "      <th>Headsets</th>\n",
       "      <th>Computer &amp; Monitor Mounts</th>\n",
       "      <th>Portable DVD Players</th>\n",
       "      <th>Crossover Parts</th>\n",
       "      <th>Gender Changers</th>\n",
       "      <th>Car Chargers</th>\n",
       "      <th>2 in 1 Laptops</th>\n",
       "      <th>DVD-VCR Combos</th>\n",
       "      <th>Camcorders</th>\n",
       "      <th>Filters</th>\n",
       "    </tr>\n",
       "  </thead>\n",
       "  <tbody>\n",
       "    <tr>\n",
       "      <th>0</th>\n",
       "      <td>7507825604</td>\n",
       "      <td>A108EEYSHGDL6O</td>\n",
       "      <td>5.0</td>\n",
       "      <td>u_36</td>\n",
       "      <td>i_1403</td>\n",
       "      <td>0</td>\n",
       "      <td>0</td>\n",
       "      <td>0</td>\n",
       "      <td>0</td>\n",
       "      <td>0</td>\n",
       "      <td>...</td>\n",
       "      <td>0</td>\n",
       "      <td>0</td>\n",
       "      <td>0</td>\n",
       "      <td>0</td>\n",
       "      <td>0</td>\n",
       "      <td>0</td>\n",
       "      <td>0</td>\n",
       "      <td>0</td>\n",
       "      <td>0</td>\n",
       "      <td>0</td>\n",
       "    </tr>\n",
       "    <tr>\n",
       "      <th>1</th>\n",
       "      <td>B000289E4S</td>\n",
       "      <td>A108EEYSHGDL6O</td>\n",
       "      <td>5.0</td>\n",
       "      <td>u_36</td>\n",
       "      <td>i_2647</td>\n",
       "      <td>0</td>\n",
       "      <td>0</td>\n",
       "      <td>0</td>\n",
       "      <td>0</td>\n",
       "      <td>0</td>\n",
       "      <td>...</td>\n",
       "      <td>0</td>\n",
       "      <td>0</td>\n",
       "      <td>0</td>\n",
       "      <td>0</td>\n",
       "      <td>0</td>\n",
       "      <td>0</td>\n",
       "      <td>0</td>\n",
       "      <td>0</td>\n",
       "      <td>0</td>\n",
       "      <td>0</td>\n",
       "    </tr>\n",
       "    <tr>\n",
       "      <th>2</th>\n",
       "      <td>B0002O77T6</td>\n",
       "      <td>A108EEYSHGDL6O</td>\n",
       "      <td>5.0</td>\n",
       "      <td>u_36</td>\n",
       "      <td>i_1766</td>\n",
       "      <td>0</td>\n",
       "      <td>0</td>\n",
       "      <td>0</td>\n",
       "      <td>0</td>\n",
       "      <td>0</td>\n",
       "      <td>...</td>\n",
       "      <td>0</td>\n",
       "      <td>0</td>\n",
       "      <td>0</td>\n",
       "      <td>0</td>\n",
       "      <td>0</td>\n",
       "      <td>0</td>\n",
       "      <td>0</td>\n",
       "      <td>0</td>\n",
       "      <td>0</td>\n",
       "      <td>0</td>\n",
       "    </tr>\n",
       "    <tr>\n",
       "      <th>3</th>\n",
       "      <td>B000E43GOO</td>\n",
       "      <td>A108EEYSHGDL6O</td>\n",
       "      <td>5.0</td>\n",
       "      <td>u_36</td>\n",
       "      <td>i_2480</td>\n",
       "      <td>0</td>\n",
       "      <td>0</td>\n",
       "      <td>0</td>\n",
       "      <td>0</td>\n",
       "      <td>1</td>\n",
       "      <td>...</td>\n",
       "      <td>0</td>\n",
       "      <td>0</td>\n",
       "      <td>0</td>\n",
       "      <td>0</td>\n",
       "      <td>0</td>\n",
       "      <td>0</td>\n",
       "      <td>0</td>\n",
       "      <td>0</td>\n",
       "      <td>0</td>\n",
       "      <td>0</td>\n",
       "    </tr>\n",
       "    <tr>\n",
       "      <th>4</th>\n",
       "      <td>B000HHROEQ</td>\n",
       "      <td>A108EEYSHGDL6O</td>\n",
       "      <td>5.0</td>\n",
       "      <td>u_36</td>\n",
       "      <td>i_447</td>\n",
       "      <td>0</td>\n",
       "      <td>0</td>\n",
       "      <td>0</td>\n",
       "      <td>0</td>\n",
       "      <td>0</td>\n",
       "      <td>...</td>\n",
       "      <td>0</td>\n",
       "      <td>0</td>\n",
       "      <td>0</td>\n",
       "      <td>0</td>\n",
       "      <td>0</td>\n",
       "      <td>0</td>\n",
       "      <td>0</td>\n",
       "      <td>0</td>\n",
       "      <td>0</td>\n",
       "      <td>0</td>\n",
       "    </tr>\n",
       "  </tbody>\n",
       "</table>\n",
       "<p>5 rows × 550 columns</p>\n",
       "</div>"
      ],
      "text/plain": [
       "         item            user  rating user_id item_id  Wireless Access Points  \\\n",
       "0  7507825604  A108EEYSHGDL6O     5.0    u_36  i_1403                       0   \n",
       "1  B000289E4S  A108EEYSHGDL6O     5.0    u_36  i_2647                       0   \n",
       "2  B0002O77T6  A108EEYSHGDL6O     5.0    u_36  i_1766                       0   \n",
       "3  B000E43GOO  A108EEYSHGDL6O     5.0    u_36  i_2480                       0   \n",
       "4  B000HHROEQ  A108EEYSHGDL6O     5.0    u_36   i_447                       0   \n",
       "\n",
       "   TV Accessories & Parts  Fans &amp; Cooling  Receivers & Amplifiers  \\\n",
       "0                       0                   0                       0   \n",
       "1                       0                   0                       0   \n",
       "2                       0                   0                       0   \n",
       "3                       0                   0                       0   \n",
       "4                       0                   0                       0   \n",
       "\n",
       "   Portable Audio & Video  ...  Headsets  Computer & Monitor Mounts  \\\n",
       "0                       0  ...         0                          0   \n",
       "1                       0  ...         0                          0   \n",
       "2                       0  ...         0                          0   \n",
       "3                       1  ...         0                          0   \n",
       "4                       0  ...         0                          0   \n",
       "\n",
       "   Portable DVD Players  Crossover Parts  Gender Changers  Car Chargers  \\\n",
       "0                     0                0                0             0   \n",
       "1                     0                0                0             0   \n",
       "2                     0                0                0             0   \n",
       "3                     0                0                0             0   \n",
       "4                     0                0                0             0   \n",
       "\n",
       "   2 in 1 Laptops  DVD-VCR Combos  Camcorders  Filters  \n",
       "0               0               0           0        0  \n",
       "1               0               0           0        0  \n",
       "2               0               0           0        0  \n",
       "3               0               0           0        0  \n",
       "4               0               0           0        0  \n",
       "\n",
       "[5 rows x 550 columns]"
      ]
     },
     "execution_count": 6,
     "metadata": {},
     "output_type": "execute_result"
    }
   ],
   "source": [
    "edge_ratings.head()"
   ]
  },
  {
   "cell_type": "markdown",
   "metadata": {},
   "source": [
    "# Split the edge dataset for train and test dataset using sklearn library"
   ]
  },
  {
   "cell_type": "code",
   "execution_count": 7,
   "metadata": {},
   "outputs": [],
   "source": [
    "from sklearn import model_selection\n",
    "edges_train, edges_test = model_selection.train_test_split(\n",
    "    edge_ratings, train_size=0.7, test_size=0.3\n",
    ")"
   ]
  },
  {
   "cell_type": "code",
   "execution_count": 8,
   "metadata": {},
   "outputs": [],
   "source": [
    "edgelist_train = list(edges_train[[\"user_id\", \"item_id\"]].itertuples(index=False))\n",
    "edgelist_test = list(edges_test[[\"user_id\", \"item_id\"]].itertuples(index=False))\n",
    "\n",
    "labels_train = edges_train[\"rating\"]\n",
    "labels_test = edges_test[\"rating\"]"
   ]
  },
  {
   "cell_type": "code",
   "execution_count": 9,
   "metadata": {},
   "outputs": [
    {
     "name": "stdout",
     "output_type": "stream",
     "text": [
      "training dataset (2178, 550)\n",
      "test dataset (934, 550)\n"
     ]
    }
   ],
   "source": [
    "print(\"training dataset {}\".format(edges_train.shape))\n",
    "print(\"test dataset {}\".format(edges_test.shape))"
   ]
  },
  {
   "cell_type": "markdown",
   "metadata": {},
   "source": [
    "# Running GraphSage Model without MetaData"
   ]
  },
  {
   "cell_type": "markdown",
   "metadata": {},
   "source": [
    "## Graph Generation for Graph Neural Network Model"
   ]
  },
  {
   "cell_type": "code",
   "execution_count": 10,
   "metadata": {},
   "outputs": [],
   "source": [
    "??dataset"
   ]
  },
  {
   "cell_type": "code",
   "execution_count": 11,
   "metadata": {},
   "outputs": [],
   "source": [
    "graph_with_one_hoting_encoding = dataset.create_graph_for_training(users, items, edge_ratings, metadata=False)"
   ]
  },
  {
   "cell_type": "code",
   "execution_count": 12,
   "metadata": {},
   "outputs": [
    {
     "name": "stdout",
     "output_type": "stream",
     "text": [
      "--------Numer of Node and edges in Graph -----------\n",
      "Number of nodes in networkx graph 2821, number of eges 3016\n"
     ]
    }
   ],
   "source": [
    "print(\"--------Numer of Node and edges in Graph -----------\")\n",
    "print(\"Number of nodes in networkx graph {}, number of eges {}\".format(len(graph_with_one_hoting_encoding.nodes()), len(graph_with_one_hoting_encoding.edges())))"
   ]
  },
  {
   "cell_type": "code",
   "execution_count": 13,
   "metadata": {},
   "outputs": [
    {
     "name": "stdout",
     "output_type": "stream",
     "text": [
      "---- User Node Features --------\n"
     ]
    },
    {
     "data": {
      "text/plain": [
       "(100, 100)"
      ]
     },
     "execution_count": 13,
     "metadata": {},
     "output_type": "execute_result"
    }
   ],
   "source": [
    "print(\"---- User Node Features --------\")\n",
    "graph_with_one_hoting_encoding.node_features(node_type = 'user').shape"
   ]
  },
  {
   "cell_type": "code",
   "execution_count": 14,
   "metadata": {},
   "outputs": [
    {
     "name": "stdout",
     "output_type": "stream",
     "text": [
      "---- Item Node Features --------\n"
     ]
    },
    {
     "data": {
      "text/plain": [
       "(2721, 2721)"
      ]
     },
     "execution_count": 14,
     "metadata": {},
     "output_type": "execute_result"
    }
   ],
   "source": [
    "print(\"---- Item Node Features --------\")\n",
    "graph_with_one_hoting_encoding.node_features(node_type = 'item').shape"
   ]
  },
  {
   "cell_type": "markdown",
   "metadata": {},
   "source": [
    "## Compile GraphicoRango Model"
   ]
  },
  {
   "cell_type": "code",
   "execution_count": 15,
   "metadata": {},
   "outputs": [],
   "source": [
    "batch_size = 200\n",
    "epochs = 20\n",
    "num_samples = [8, 4]\n",
    "graphicoranko_without_metadata = GraphicoRango(edgelist_train, edgelist_test, labels_train, labels_test, epochs, batch_size, graph_with_one_hoting_encoding, num_samples)"
   ]
  },
  {
   "cell_type": "code",
   "execution_count": 16,
   "metadata": {},
   "outputs": [
    {
     "name": "stdout",
     "output_type": "stream",
     "text": [
      "{'user': [EdgeType(n1='user', rel='default', n2='item')], 'item': [EdgeType(n1='item', rel='default', n2='user')]}\n",
      "link_regression: using 'concat' method to combine node embeddings into edge embeddings\n",
      "Model: \"model\"\n",
      "__________________________________________________________________________________________________\n",
      "Layer (type)                    Output Shape         Param #     Connected to                     \n",
      "==================================================================================================\n",
      "input_3 (InputLayer)            [(None, 8, 2721)]    0                                            \n",
      "__________________________________________________________________________________________________\n",
      "input_5 (InputLayer)            [(None, 32, 100)]    0                                            \n",
      "__________________________________________________________________________________________________\n",
      "input_6 (InputLayer)            [(None, 32, 2721)]   0                                            \n",
      "__________________________________________________________________________________________________\n",
      "input_1 (InputLayer)            [(None, 1, 100)]     0                                            \n",
      "__________________________________________________________________________________________________\n",
      "reshape (Reshape)               (None, 1, 8, 2721)   0           input_3[0][0]                    \n",
      "__________________________________________________________________________________________________\n",
      "reshape_2 (Reshape)             (None, 8, 4, 100)    0           input_5[0][0]                    \n",
      "__________________________________________________________________________________________________\n",
      "input_4 (InputLayer)            [(None, 8, 100)]     0                                            \n",
      "__________________________________________________________________________________________________\n",
      "reshape_3 (Reshape)             (None, 8, 4, 2721)   0           input_6[0][0]                    \n",
      "__________________________________________________________________________________________________\n",
      "dropout_1 (Dropout)             (None, 1, 100)       0           input_1[0][0]                    \n",
      "__________________________________________________________________________________________________\n",
      "dropout (Dropout)               (None, 1, 8, 2721)   0           reshape[0][0]                    \n",
      "__________________________________________________________________________________________________\n",
      "dropout_5 (Dropout)             (None, 8, 2721)      0           input_3[0][0]                    \n",
      "__________________________________________________________________________________________________\n",
      "dropout_4 (Dropout)             (None, 8, 4, 100)    0           reshape_2[0][0]                  \n",
      "__________________________________________________________________________________________________\n",
      "input_2 (InputLayer)            [(None, 1, 2721)]    0                                            \n",
      "__________________________________________________________________________________________________\n",
      "reshape_1 (Reshape)             (None, 1, 8, 100)    0           input_4[0][0]                    \n",
      "__________________________________________________________________________________________________\n",
      "dropout_7 (Dropout)             (None, 8, 100)       0           input_4[0][0]                    \n",
      "__________________________________________________________________________________________________\n",
      "dropout_6 (Dropout)             (None, 8, 4, 2721)   0           reshape_3[0][0]                  \n",
      "__________________________________________________________________________________________________\n",
      "mean_hin_aggregator (MeanHinAgg multiple             45168       dropout_1[0][0]                  \n",
      "                                                                 dropout[0][0]                    \n",
      "                                                                 dropout_7[0][0]                  \n",
      "                                                                 dropout_6[0][0]                  \n",
      "__________________________________________________________________________________________________\n",
      "mean_hin_aggregator_1 (MeanHinA multiple             45168       dropout_3[0][0]                  \n",
      "                                                                 dropout_2[0][0]                  \n",
      "                                                                 dropout_5[0][0]                  \n",
      "                                                                 dropout_4[0][0]                  \n",
      "__________________________________________________________________________________________________\n",
      "dropout_3 (Dropout)             (None, 1, 2721)      0           input_2[0][0]                    \n",
      "__________________________________________________________________________________________________\n",
      "dropout_2 (Dropout)             (None, 1, 8, 100)    0           reshape_1[0][0]                  \n",
      "__________________________________________________________________________________________________\n",
      "reshape_4 (Reshape)             (None, 1, 8, 32)     0           mean_hin_aggregator_1[1][0]      \n",
      "__________________________________________________________________________________________________\n",
      "reshape_5 (Reshape)             (None, 1, 8, 32)     0           mean_hin_aggregator[1][0]        \n",
      "__________________________________________________________________________________________________\n",
      "dropout_9 (Dropout)             (None, 1, 32)        0           mean_hin_aggregator[0][0]        \n",
      "__________________________________________________________________________________________________\n",
      "dropout_8 (Dropout)             (None, 1, 8, 32)     0           reshape_4[0][0]                  \n",
      "__________________________________________________________________________________________________\n",
      "dropout_11 (Dropout)            (None, 1, 32)        0           mean_hin_aggregator_1[0][0]      \n",
      "__________________________________________________________________________________________________\n",
      "dropout_10 (Dropout)            (None, 1, 8, 32)     0           reshape_5[0][0]                  \n",
      "__________________________________________________________________________________________________\n",
      "mean_hin_aggregator_2 (MeanHinA (None, 1, 32)        1056        dropout_9[0][0]                  \n",
      "                                                                 dropout_8[0][0]                  \n",
      "__________________________________________________________________________________________________\n",
      "mean_hin_aggregator_3 (MeanHinA (None, 1, 32)        1056        dropout_11[0][0]                 \n",
      "                                                                 dropout_10[0][0]                 \n",
      "__________________________________________________________________________________________________\n",
      "reshape_6 (Reshape)             (None, 32)           0           mean_hin_aggregator_2[0][0]      \n",
      "__________________________________________________________________________________________________\n",
      "reshape_7 (Reshape)             (None, 32)           0           mean_hin_aggregator_3[0][0]      \n",
      "__________________________________________________________________________________________________\n",
      "lambda (Lambda)                 (None, 32)           0           reshape_6[0][0]                  \n",
      "                                                                 reshape_7[0][0]                  \n",
      "__________________________________________________________________________________________________\n",
      "link_embedding (LinkEmbedding)  (None, 64)           0           lambda[0][0]                     \n",
      "                                                                 lambda[1][0]                     \n",
      "__________________________________________________________________________________________________\n",
      "dense (Dense)                   (None, 1)            65          link_embedding[0][0]             \n",
      "__________________________________________________________________________________________________\n",
      "reshape_8 (Reshape)             (None, 1)            0           dense[0][0]                      \n",
      "==================================================================================================\n",
      "Total params: 92,513\n",
      "Trainable params: 92,513\n",
      "Non-trainable params: 0\n",
      "__________________________________________________________________________________________________\n",
      "None\n"
     ]
    }
   ],
   "source": [
    "graphicoranko_without_metadata.compile()"
   ]
  },
  {
   "cell_type": "markdown",
   "metadata": {},
   "source": [
    "## Train Model"
   ]
  },
  {
   "cell_type": "code",
   "execution_count": 17,
   "metadata": {},
   "outputs": [
    {
     "name": "stdout",
     "output_type": "stream",
     "text": [
      "5/5 [==============================] - 1s 49ms/step - loss: 23.2254 - root_mean_square_error: 4.8206 - mean_absolute_error: 4.7888\n",
      "Untrained model's Test Evaluation:\n",
      "\tloss: 23.2818\n",
      "\troot_mean_square_error: 4.8291\n",
      "\tmean_absolute_error: 4.7919\n"
     ]
    }
   ],
   "source": [
    "## Before training Model accuracy\n",
    "\n",
    "test_metrics = graphicoranko_without_metadata.model.evaluate(\n",
    "    graphicoranko_without_metadata.test_gen, verbose=1, use_multiprocessing=False, workers=4\n",
    ")\n",
    "\n",
    "print(\"Untrained model's Test Evaluation:\")\n",
    "for name, val in zip(graphicoranko_without_metadata.model.metrics_names, test_metrics):\n",
    "    print(\"\\t{}: {:0.4f}\".format(name, val))"
   ]
  },
  {
   "cell_type": "code",
   "execution_count": 18,
   "metadata": {},
   "outputs": [
    {
     "name": "stdout",
     "output_type": "stream",
     "text": [
      "Epoch 1/20\n",
      "11/11 [==============================] - 5s 334ms/step - loss: 10.5685 - root_mean_square_error: 3.1479 - mean_absolute_error: 3.1144 - val_loss: 4.6643 - val_root_mean_square_error: 2.1626 - val_mean_absolute_error: 2.1129\n",
      "Epoch 2/20\n",
      "11/11 [==============================] - 3s 231ms/step - loss: 2.9528 - root_mean_square_error: 1.6862 - mean_absolute_error: 1.6338 - val_loss: 1.2604 - val_root_mean_square_error: 1.1231 - val_mean_absolute_error: 1.0307\n",
      "Epoch 3/20\n",
      "11/11 [==============================] - 3s 234ms/step - loss: 0.7335 - root_mean_square_error: 0.8352 - mean_absolute_error: 0.7565 - val_loss: 0.3196 - val_root_mean_square_error: 0.5541 - val_mean_absolute_error: 0.4998\n",
      "Epoch 4/20\n",
      "11/11 [==============================] - 3s 211ms/step - loss: 0.3328 - root_mean_square_error: 0.5667 - mean_absolute_error: 0.3879 - val_loss: 0.3310 - val_root_mean_square_error: 0.5575 - val_mean_absolute_error: 0.3079\n",
      "Epoch 5/20\n",
      "11/11 [==============================] - 3s 226ms/step - loss: 0.3656 - root_mean_square_error: 0.6010 - mean_absolute_error: 0.2777 - val_loss: 0.3306 - val_root_mean_square_error: 0.5570 - val_mean_absolute_error: 0.3049\n",
      "Epoch 6/20\n",
      "11/11 [==============================] - 3s 223ms/step - loss: 0.3320 - root_mean_square_error: 0.5670 - mean_absolute_error: 0.3207 - val_loss: 0.2868 - val_root_mean_square_error: 0.5180 - val_mean_absolute_error: 0.3774\n",
      "Epoch 7/20\n",
      "11/11 [==============================] - 3s 244ms/step - loss: 0.3082 - root_mean_square_error: 0.5531 - mean_absolute_error: 0.3987 - val_loss: 0.2813 - val_root_mean_square_error: 0.5146 - val_mean_absolute_error: 0.4226\n",
      "Epoch 8/20\n",
      "11/11 [==============================] - 3s 247ms/step - loss: 0.2998 - root_mean_square_error: 0.5434 - mean_absolute_error: 0.4089 - val_loss: 0.2761 - val_root_mean_square_error: 0.5086 - val_mean_absolute_error: 0.4030\n",
      "Epoch 9/20\n",
      "11/11 [==============================] - 3s 244ms/step - loss: 0.2885 - root_mean_square_error: 0.5296 - mean_absolute_error: 0.3803 - val_loss: 0.2712 - val_root_mean_square_error: 0.5029 - val_mean_absolute_error: 0.3814\n",
      "Epoch 10/20\n",
      "11/11 [==============================] - 3s 221ms/step - loss: 0.2754 - root_mean_square_error: 0.5163 - mean_absolute_error: 0.3613 - val_loss: 0.2670 - val_root_mean_square_error: 0.4996 - val_mean_absolute_error: 0.3772\n",
      "Epoch 11/20\n",
      "11/11 [==============================] - 3s 227ms/step - loss: 0.2615 - root_mean_square_error: 0.5049 - mean_absolute_error: 0.3465 - val_loss: 0.2653 - val_root_mean_square_error: 0.4977 - val_mean_absolute_error: 0.3697\n",
      "Epoch 12/20\n",
      "11/11 [==============================] - 3s 279ms/step - loss: 0.2469 - root_mean_square_error: 0.4914 - mean_absolute_error: 0.3302 - val_loss: 0.2662 - val_root_mean_square_error: 0.4986 - val_mean_absolute_error: 0.3647\n",
      "Epoch 13/20\n",
      "11/11 [==============================] - 3s 233ms/step - loss: 0.2351 - root_mean_square_error: 0.4717 - mean_absolute_error: 0.3137 - val_loss: 0.2656 - val_root_mean_square_error: 0.4992 - val_mean_absolute_error: 0.3604\n",
      "Epoch 14/20\n",
      "11/11 [==============================] - 3s 213ms/step - loss: 0.2219 - root_mean_square_error: 0.4592 - mean_absolute_error: 0.2932 - val_loss: 0.2676 - val_root_mean_square_error: 0.5007 - val_mean_absolute_error: 0.3554\n",
      "Epoch 15/20\n",
      "11/11 [==============================] - 3s 244ms/step - loss: 0.2055 - root_mean_square_error: 0.4475 - mean_absolute_error: 0.2698 - val_loss: 0.2705 - val_root_mean_square_error: 0.5033 - val_mean_absolute_error: 0.3508\n",
      "Epoch 16/20\n",
      "11/11 [==============================] - 3s 252ms/step - loss: 0.1924 - root_mean_square_error: 0.4246 - mean_absolute_error: 0.2514 - val_loss: 0.2721 - val_root_mean_square_error: 0.5050 - val_mean_absolute_error: 0.3545\n",
      "Epoch 17/20\n",
      "11/11 [==============================] - 4s 294ms/step - loss: 0.1769 - root_mean_square_error: 0.4145 - mean_absolute_error: 0.2331 - val_loss: 0.2763 - val_root_mean_square_error: 0.5093 - val_mean_absolute_error: 0.3525\n",
      "Epoch 18/20\n",
      "11/11 [==============================] - 3s 260ms/step - loss: 0.1621 - root_mean_square_error: 0.3968 - mean_absolute_error: 0.2023 - val_loss: 0.2816 - val_root_mean_square_error: 0.5137 - val_mean_absolute_error: 0.3498\n",
      "Epoch 19/20\n",
      "11/11 [==============================] - 3s 288ms/step - loss: 0.1523 - root_mean_square_error: 0.3838 - mean_absolute_error: 0.1823 - val_loss: 0.2860 - val_root_mean_square_error: 0.5193 - val_mean_absolute_error: 0.3565\n",
      "Epoch 20/20\n",
      "11/11 [==============================] - 3s 255ms/step - loss: 0.1420 - root_mean_square_error: 0.3665 - mean_absolute_error: 0.1710 - val_loss: 0.2939 - val_root_mean_square_error: 0.5260 - val_mean_absolute_error: 0.3581\n"
     ]
    }
   ],
   "source": [
    "history = graphicoranko_without_metadata.train_model()"
   ]
  },
  {
   "cell_type": "code",
   "execution_count": 19,
   "metadata": {},
   "outputs": [
    {
     "data": {
      "image/png": "[encoded data removed]",
      "text/plain": [
       "<Figure size 504x864 with 3 Axes>"
      ]
     },
     "metadata": {
      "needs_background": "light"
     },
     "output_type": "display_data"
    }
   ],
   "source": [
    "sg.utils.plot_history(history)"
   ]
  },
  {
   "cell_type": "code",
   "execution_count": 20,
   "metadata": {},
   "outputs": [
    {
     "name": "stdout",
     "output_type": "stream",
     "text": [
      "5/5 [==============================] - 1s 129ms/step - loss: 0.2932 - root_mean_square_error: 0.5254 - mean_absolute_error: 0.3575\n",
      "Trained model's Test Evaluation:\n",
      "\tloss: 0.2932\n",
      "\troot_mean_square_error: 0.5254\n",
      "\tmean_absolute_error: 0.3575\n"
     ]
    }
   ],
   "source": [
    "## After Model Training Accuracy\n",
    "\n",
    "test_metrics = graphicoranko_without_metadata.model.evaluate(\n",
    "    graphicoranko_without_metadata.test_gen, verbose=1, use_multiprocessing=False, workers=4\n",
    ")\n",
    "\n",
    "print(\"Trained model's Test Evaluation:\")\n",
    "for name, val in zip(graphicoranko_without_metadata.model.metrics_names, test_metrics):\n",
    "    print(\"\\t{}: {:0.4f}\".format(name, val))"
   ]
  },
  {
   "cell_type": "markdown",
   "metadata": {},
   "source": [
    "## Model Validation"
   ]
  },
  {
   "cell_type": "code",
   "execution_count": 21,
   "metadata": {},
   "outputs": [
    {
     "name": "stdout",
     "output_type": "stream",
     "text": [
      "5/5 [==============================] - 1s 133ms/step - loss: 0.2933 - root_mean_square_error: 0.5263 - mean_absolute_error: 0.3591\n",
      "Test Evaluation:\n",
      "\tloss: 0.2933\n",
      "\troot_mean_square_error: 0.5263\n",
      "\tmean_absolute_error: 0.3591\n",
      "Mean Baseline Test set metrics:\n",
      "\troot_mean_square_error =  0.5374945609459483\n",
      "\tmean_absolute_error =  0.41201521650882045\n",
      "\n",
      "Model Test set metrics:\n",
      "\troot_mean_square_error =  0.5406310491023667\n",
      "\tmean_absolute_error =  0.35885361558109585\n"
     ]
    }
   ],
   "source": [
    "graphicoranko_without_metadata.validate_model_accuracy()"
   ]
  },
  {
   "cell_type": "code",
   "execution_count": 22,
   "metadata": {},
   "outputs": [
    {
     "name": "stdout",
     "output_type": "stream",
     "text": [
      "Mean Baseline Test set metrics:\n",
      "\troot_mean_square_error =  1.8076686512994553\n",
      "\tmean_absolute_error =  1.753747323340471\n",
      "\n",
      "Model Test set metrics:\n",
      "\troot_mean_square_error =  0.5420614213647242\n",
      "\tmean_absolute_error =  0.35876629822259287\n"
     ]
    }
   ],
   "source": [
    "y_true = labels_test\n",
    "# Predict the rankings using the model:\n",
    "y_pred = graphicoranko_without_metadata.model.predict(graphicoranko_without_metadata.test_gen)\n",
    "# Mean baseline rankings = mean movie ranking:\n",
    "y_pred_baseline = np.full_like(y_pred, 3)\n",
    "\n",
    "rmse = np.sqrt(mean_squared_error(y_true, y_pred_baseline))\n",
    "mae = mean_absolute_error(y_true, y_pred_baseline)\n",
    "print(\"Mean Baseline Test set metrics:\")\n",
    "print(\"\\troot_mean_square_error = \", rmse)\n",
    "print(\"\\tmean_absolute_error = \", mae)\n",
    "\n",
    "rmse = np.sqrt(mean_squared_error(y_true, y_pred))\n",
    "mae = mean_absolute_error(y_true, y_pred)\n",
    "print(\"\\nModel Test set metrics:\")\n",
    "print(\"\\troot_mean_square_error = \", rmse)\n",
    "print(\"\\tmean_absolute_error = \", mae)"
   ]
  },
  {
   "cell_type": "code",
   "execution_count": 23,
   "metadata": {},
   "outputs": [
    {
     "data": {
      "image/png": "[encoded data removed]",
      "text/plain": [
       "<Figure size 432x288 with 1 Axes>"
      ]
     },
     "metadata": {
      "needs_background": "light"
     },
     "output_type": "display_data"
    }
   ],
   "source": [
    "h_true = plt.hist(y_true, bins=30, facecolor=\"green\", alpha=0.5)\n",
    "h_pred = plt.hist(y_pred, bins=30, facecolor=\"blue\", alpha=0.5)\n",
    "plt.xlabel(\"ranking\")\n",
    "plt.ylabel(\"count\")\n",
    "plt.legend((\"True\", \"Predicted\"))\n",
    "plt.show()"
   ]
  },
  {
   "cell_type": "code",
   "execution_count": 24,
   "metadata": {},
   "outputs": [
    {
     "data": {
      "text/plain": [
       "5.0"
      ]
     },
     "execution_count": 24,
     "metadata": {},
     "output_type": "execute_result"
    }
   ],
   "source": [
    "np.mean(y_true[y_true == 5.0])"
   ]
  },
  {
   "cell_type": "code",
   "execution_count": null,
   "metadata": {},
   "outputs": [],
   "source": []
  },
  {
   "cell_type": "markdown",
   "metadata": {},
   "source": [
    "# Running HinSage Model with \"category\" as metadata "
   ]
  },
  {
   "cell_type": "markdown",
   "metadata": {},
   "source": [
    "## Graph Generation for Graph Neural Network Models\n"
   ]
  },
  {
   "cell_type": "code",
   "execution_count": 25,
   "metadata": {},
   "outputs": [],
   "source": [
    "graph_with_meta_encoding = dataset.create_graph_for_training(users, items, edge_ratings, metadata=True)\n"
   ]
  },
  {
   "cell_type": "code",
   "execution_count": 26,
   "metadata": {},
   "outputs": [
    {
     "name": "stdout",
     "output_type": "stream",
     "text": [
      "--------Numer of Node and edges in Graph -----------\n",
      "Number of nodes in networkx graph 2821, number of eges 3016\n"
     ]
    }
   ],
   "source": [
    "print(\"--------Numer of Node and edges in Graph -----------\")\n",
    "print(\"Number of nodes in networkx graph {}, number of eges {}\".format(len(graph_with_meta_encoding.nodes()), len(graph_with_meta_encoding.edges())))"
   ]
  },
  {
   "cell_type": "code",
   "execution_count": 27,
   "metadata": {},
   "outputs": [
    {
     "name": "stdout",
     "output_type": "stream",
     "text": [
      "---- User Node Features --------\n"
     ]
    },
    {
     "data": {
      "text/plain": [
       "(100, 100)"
      ]
     },
     "execution_count": 27,
     "metadata": {},
     "output_type": "execute_result"
    }
   ],
   "source": [
    "print(\"---- User Node Features --------\")\n",
    "graph_with_meta_encoding.node_features(node_type = 'user').shape"
   ]
  },
  {
   "cell_type": "code",
   "execution_count": 28,
   "metadata": {},
   "outputs": [
    {
     "name": "stdout",
     "output_type": "stream",
     "text": [
      "---- Item Node Features --------\n"
     ]
    },
    {
     "data": {
      "text/plain": [
       "(2721, 545)"
      ]
     },
     "execution_count": 28,
     "metadata": {},
     "output_type": "execute_result"
    }
   ],
   "source": [
    "print(\"---- Item Node Features --------\")\n",
    "graph_with_meta_encoding.node_features(node_type = 'item').shape"
   ]
  },
  {
   "cell_type": "markdown",
   "metadata": {},
   "source": [
    "## Compile GraphicoRango Model with Metadata"
   ]
  },
  {
   "cell_type": "code",
   "execution_count": 29,
   "metadata": {},
   "outputs": [],
   "source": [
    "batch_size = 200\n",
    "epochs = 20\n",
    "num_samples = [8, 4]\n",
    "graphicoranko_with_metadata = GraphicoRango(edgelist_train, edgelist_test, labels_train, labels_test, epochs, batch_size, graph_with_one_hoting_encoding, num_samples)"
   ]
  },
  {
   "cell_type": "code",
   "execution_count": 30,
   "metadata": {},
   "outputs": [
    {
     "name": "stdout",
     "output_type": "stream",
     "text": [
      "{'user': [EdgeType(n1='user', rel='default', n2='item')], 'item': [EdgeType(n1='item', rel='default', n2='user')]}\n",
      "link_regression: using 'concat' method to combine node embeddings into edge embeddings\n",
      "Model: \"model_1\"\n",
      "__________________________________________________________________________________________________\n",
      "Layer (type)                    Output Shape         Param #     Connected to                     \n",
      "==================================================================================================\n",
      "input_9 (InputLayer)            [(None, 8, 2721)]    0                                            \n",
      "__________________________________________________________________________________________________\n",
      "input_11 (InputLayer)           [(None, 32, 100)]    0                                            \n",
      "__________________________________________________________________________________________________\n",
      "input_12 (InputLayer)           [(None, 32, 2721)]   0                                            \n",
      "__________________________________________________________________________________________________\n",
      "input_7 (InputLayer)            [(None, 1, 100)]     0                                            \n",
      "__________________________________________________________________________________________________\n",
      "reshape_9 (Reshape)             (None, 1, 8, 2721)   0           input_9[0][0]                    \n",
      "__________________________________________________________________________________________________\n",
      "reshape_11 (Reshape)            (None, 8, 4, 100)    0           input_11[0][0]                   \n",
      "__________________________________________________________________________________________________\n",
      "input_10 (InputLayer)           [(None, 8, 100)]     0                                            \n",
      "__________________________________________________________________________________________________\n",
      "reshape_12 (Reshape)            (None, 8, 4, 2721)   0           input_12[0][0]                   \n",
      "__________________________________________________________________________________________________\n",
      "dropout_13 (Dropout)            (None, 1, 100)       0           input_7[0][0]                    \n",
      "__________________________________________________________________________________________________\n",
      "dropout_12 (Dropout)            (None, 1, 8, 2721)   0           reshape_9[0][0]                  \n",
      "__________________________________________________________________________________________________\n",
      "dropout_17 (Dropout)            (None, 8, 2721)      0           input_9[0][0]                    \n",
      "__________________________________________________________________________________________________\n",
      "dropout_16 (Dropout)            (None, 8, 4, 100)    0           reshape_11[0][0]                 \n",
      "__________________________________________________________________________________________________\n",
      "input_8 (InputLayer)            [(None, 1, 2721)]    0                                            \n",
      "__________________________________________________________________________________________________\n",
      "reshape_10 (Reshape)            (None, 1, 8, 100)    0           input_10[0][0]                   \n",
      "__________________________________________________________________________________________________\n",
      "dropout_19 (Dropout)            (None, 8, 100)       0           input_10[0][0]                   \n",
      "__________________________________________________________________________________________________\n",
      "dropout_18 (Dropout)            (None, 8, 4, 2721)   0           reshape_12[0][0]                 \n",
      "__________________________________________________________________________________________________\n",
      "mean_hin_aggregator_4 (MeanHinA multiple             45168       dropout_13[0][0]                 \n",
      "                                                                 dropout_12[0][0]                 \n",
      "                                                                 dropout_19[0][0]                 \n",
      "                                                                 dropout_18[0][0]                 \n",
      "__________________________________________________________________________________________________\n",
      "mean_hin_aggregator_5 (MeanHinA multiple             45168       dropout_15[0][0]                 \n",
      "                                                                 dropout_14[0][0]                 \n",
      "                                                                 dropout_17[0][0]                 \n",
      "                                                                 dropout_16[0][0]                 \n",
      "__________________________________________________________________________________________________\n",
      "dropout_15 (Dropout)            (None, 1, 2721)      0           input_8[0][0]                    \n",
      "__________________________________________________________________________________________________\n",
      "dropout_14 (Dropout)            (None, 1, 8, 100)    0           reshape_10[0][0]                 \n",
      "__________________________________________________________________________________________________\n",
      "reshape_13 (Reshape)            (None, 1, 8, 32)     0           mean_hin_aggregator_5[1][0]      \n",
      "__________________________________________________________________________________________________\n",
      "reshape_14 (Reshape)            (None, 1, 8, 32)     0           mean_hin_aggregator_4[1][0]      \n",
      "__________________________________________________________________________________________________\n",
      "dropout_21 (Dropout)            (None, 1, 32)        0           mean_hin_aggregator_4[0][0]      \n",
      "__________________________________________________________________________________________________\n",
      "dropout_20 (Dropout)            (None, 1, 8, 32)     0           reshape_13[0][0]                 \n",
      "__________________________________________________________________________________________________\n",
      "dropout_23 (Dropout)            (None, 1, 32)        0           mean_hin_aggregator_5[0][0]      \n",
      "__________________________________________________________________________________________________\n",
      "dropout_22 (Dropout)            (None, 1, 8, 32)     0           reshape_14[0][0]                 \n",
      "__________________________________________________________________________________________________\n",
      "mean_hin_aggregator_6 (MeanHinA (None, 1, 32)        1056        dropout_21[0][0]                 \n",
      "                                                                 dropout_20[0][0]                 \n",
      "__________________________________________________________________________________________________\n",
      "mean_hin_aggregator_7 (MeanHinA (None, 1, 32)        1056        dropout_23[0][0]                 \n",
      "                                                                 dropout_22[0][0]                 \n",
      "__________________________________________________________________________________________________\n",
      "reshape_15 (Reshape)            (None, 32)           0           mean_hin_aggregator_6[0][0]      \n",
      "__________________________________________________________________________________________________\n",
      "reshape_16 (Reshape)            (None, 32)           0           mean_hin_aggregator_7[0][0]      \n",
      "__________________________________________________________________________________________________\n",
      "lambda_1 (Lambda)               (None, 32)           0           reshape_15[0][0]                 \n",
      "                                                                 reshape_16[0][0]                 \n",
      "__________________________________________________________________________________________________\n",
      "link_embedding_1 (LinkEmbedding (None, 64)           0           lambda_1[0][0]                   \n",
      "                                                                 lambda_1[1][0]                   \n",
      "__________________________________________________________________________________________________\n",
      "dense_1 (Dense)                 (None, 1)            65          link_embedding_1[0][0]           \n",
      "__________________________________________________________________________________________________\n",
      "reshape_17 (Reshape)            (None, 1)            0           dense_1[0][0]                    \n",
      "==================================================================================================\n",
      "Total params: 92,513\n",
      "Trainable params: 92,513\n",
      "Non-trainable params: 0\n",
      "__________________________________________________________________________________________________\n",
      "None\n"
     ]
    }
   ],
   "source": [
    "graphicoranko_with_metadata.compile()"
   ]
  },
  {
   "cell_type": "markdown",
   "metadata": {},
   "source": [
    "## Train Model"
   ]
  },
  {
   "cell_type": "code",
   "execution_count": 31,
   "metadata": {},
   "outputs": [
    {
     "name": "stdout",
     "output_type": "stream",
     "text": [
      "5/5 [==============================] - 1s 51ms/step - loss: 22.0805 - root_mean_square_error: 4.7006 - mean_absolute_error: 4.6683\n",
      "Untrained model's Test Evaluation:\n",
      "\tloss: 22.1730\n",
      "\troot_mean_square_error: 4.7137\n",
      "\tmean_absolute_error: 4.6756\n"
     ]
    }
   ],
   "source": [
    "## Before training Model accuracy\n",
    "\n",
    "test_metrics = graphicoranko_with_metadata.model.evaluate(\n",
    "    graphicoranko_with_metadata.test_gen, verbose=1, use_multiprocessing=False, workers=4\n",
    ")\n",
    "\n",
    "print(\"Untrained model's Test Evaluation:\")\n",
    "for name, val in zip(graphicoranko_with_metadata.model.metrics_names, test_metrics):\n",
    "    print(\"\\t{}: {:0.4f}\".format(name, val))"
   ]
  },
  {
   "cell_type": "code",
   "execution_count": null,
   "metadata": {},
   "outputs": [
    {
     "name": "stdout",
     "output_type": "stream",
     "text": [
      "Epoch 1/20\n",
      "11/11 [==============================] - 5s 302ms/step - loss: 9.7255 - root_mean_square_error: 3.0172 - mean_absolute_error: 2.9839 - val_loss: 4.1920 - val_root_mean_square_error: 2.0502 - val_mean_absolute_error: 1.9993\n",
      "Epoch 2/20\n",
      "11/11 [==============================] - 4s 291ms/step - loss: 2.5960 - root_mean_square_error: 1.5822 - mean_absolute_error: 1.5255 - val_loss: 1.0658 - val_root_mean_square_error: 1.0323 - val_mean_absolute_error: 0.9294\n",
      "Epoch 3/20\n",
      "11/11 [==============================] - 4s 268ms/step - loss: 0.6287 - root_mean_square_error: 0.7698 - mean_absolute_error: 0.6958 - val_loss: 0.2995 - val_root_mean_square_error: 0.5340 - val_mean_absolute_error: 0.4639\n",
      "Epoch 4/20\n",
      "11/11 [==============================] - 3s 252ms/step - loss: 0.3376 - root_mean_square_error: 0.5764 - mean_absolute_error: 0.3615 - val_loss: 0.3427 - val_root_mean_square_error: 0.5674 - val_mean_absolute_error: 0.2938\n",
      "Epoch 5/20\n",
      "11/11 [==============================] - 3s 261ms/step - loss: 0.3671 - root_mean_square_error: 0.5964 - mean_absolute_error: 0.2742 - val_loss: 0.3212 - val_root_mean_square_error: 0.5486 - val_mean_absolute_error: 0.3143\n"
     ]
    }
   ],
   "source": [
    "history = graphicoranko_with_metadata.train_model()"
   ]
  },
  {
   "cell_type": "code",
   "execution_count": null,
   "metadata": {},
   "outputs": [],
   "source": [
    "# Print History\n",
    "sg.utils.plot_history(history)"
   ]
  },
  {
   "cell_type": "code",
   "execution_count": null,
   "metadata": {},
   "outputs": [],
   "source": [
    "## After Model Training Accuracy\n",
    "\n",
    "test_metrics = graphicoranko_with_metadata.model.evaluate(\n",
    "    graphicoranko_with_metadata.test_gen, verbose=1, use_multiprocessing=False, workers=4\n",
    ")\n",
    "\n",
    "print(\"Trained model's Test Evaluation:\")\n",
    "for name, val in zip(graphicoranko_with_metadata.model.metrics_names, test_metrics):\n",
    "    print(\"\\t{}: {:0.4f}\".format(name, val))"
   ]
  },
  {
   "cell_type": "markdown",
   "metadata": {},
   "source": [
    "## Model Validation"
   ]
  },
  {
   "cell_type": "code",
   "execution_count": null,
   "metadata": {},
   "outputs": [],
   "source": [
    "graphicoranko_with_metadata.validate_model_accuracy()"
   ]
  },
  {
   "cell_type": "code",
   "execution_count": null,
   "metadata": {},
   "outputs": [],
   "source": [
    "y_true = labels_test\n",
    "# Predict the rankings using the model:\n",
    "y_pred = graphicoranko_with_metadata.model.predict(graphicoranko_with_metadata.test_gen)\n",
    "# Mean baseline rankings = mean movie ranking:\n",
    "y_pred_baseline = np.full_like(y_pred, 3)\n",
    "\n",
    "rmse = np.sqrt(mean_squared_error(y_true, y_pred_baseline))\n",
    "mae = mean_absolute_error(y_true, y_pred_baseline)\n",
    "print(\"Mean Baseline Test set metrics:\")\n",
    "print(\"\\troot_mean_square_error = \", rmse)\n",
    "print(\"\\tmean_absolute_error = \", mae)\n",
    "\n",
    "rmse = np.sqrt(mean_squared_error(y_true, y_pred))\n",
    "mae = mean_absolute_error(y_true, y_pred)\n",
    "print(\"\\nModel Test set metrics:\")\n",
    "print(\"\\troot_mean_square_error = \", rmse)\n",
    "print(\"\\tmean_absolute_error = \", mae)"
   ]
  },
  {
   "cell_type": "code",
   "execution_count": null,
   "metadata": {},
   "outputs": [],
   "source": [
    "h_true = plt.hist(y_true, bins=30, facecolor=\"green\", alpha=0.5)\n",
    "h_pred = plt.hist(y_pred, bins=30, facecolor=\"blue\", alpha=0.5)\n",
    "plt.xlabel(\"ranking\")\n",
    "plt.ylabel(\"count\")\n",
    "plt.legend((\"True\", \"Predicted\"))\n",
    "plt.show()"
   ]
  },
  {
   "cell_type": "code",
   "execution_count": null,
   "metadata": {},
   "outputs": [],
   "source": []
  },
  {
   "cell_type": "code",
   "execution_count": null,
   "metadata": {},
   "outputs": [],
   "source": []
  }
 ],
 "metadata": {
  "kernelspec": {
   "display_name": "Python 3",
   "language": "python",
   "name": "python3"
  },
  "language_info": {
   "codemirror_mode": {
    "name": "ipython",
    "version": 3
   },
   "file_extension": ".py",
   "mimetype": "text/x-python",
   "name": "python",
   "nbconvert_exporter": "python",
   "pygments_lexer": "ipython3",
   "version": "3.8.5"
  }
 },
 "nbformat": 4,
 "nbformat_minor": 4
}
