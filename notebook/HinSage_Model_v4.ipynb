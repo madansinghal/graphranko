{
 "cells": [
  {
   "cell_type": "markdown",
   "metadata": {},
   "source": [
    "## HinSage  on Amazon Dataset"
   ]
  },
  {
   "cell_type": "code",
   "execution_count": 1,
   "metadata": {},
   "outputs": [],
   "source": [
    "%load_ext autoreload\n",
    "%autoreload 2\n",
    "import json\n",
    "import pandas as pd\n",
    "import numpy as np\n",
    "from sklearn import preprocessing, feature_extraction, model_selection\n",
    "from sklearn.metrics import mean_absolute_error, mean_squared_error\n",
    "\n",
    "import stellargraph as sg\n",
    "from stellargraph.mapper import HinSAGELinkGenerator\n",
    "from stellargraph.layer import HinSAGE, link_regression\n",
    "from tensorflow.keras import Model, optimizers, losses, metrics\n",
    "\n",
    "import multiprocessing\n",
    "from stellargraph import datasets\n",
    "from stellargraph import StellarGraph\n",
    "from IPython.display import display, HTML\n",
    "import matplotlib.pyplot as plt\n",
    "import numpy as np\n",
    "import networkx as nx\n",
    "import sys"
   ]
  },
  {
   "cell_type": "code",
   "execution_count": 2,
   "metadata": {},
   "outputs": [],
   "source": [
    "sys.path.append(\"/Users/msinghal/SourceCodes/Personal/graphranko/GraphicoRango/steller_graph_implementation\")\n",
    "from datasets import Amz_Dataset\n",
    "from model import GraphicoRango"
   ]
  },
  {
   "cell_type": "code",
   "execution_count": 3,
   "metadata": {},
   "outputs": [],
   "source": [
    "??Amz_Dataset"
   ]
  },
  {
   "cell_type": "markdown",
   "metadata": {},
   "source": []
  },
  {
   "cell_type": "markdown",
   "metadata": {},
   "source": [
    "# Load Dataset"
   ]
  },
  {
   "cell_type": "code",
   "execution_count": 4,
   "metadata": {},
   "outputs": [
    {
     "name": "stdout",
     "output_type": "stream",
     "text": [
      "Index(['item', 'user', 'rating'], dtype='object')\n",
      "Index(['user', 'user_id'], dtype='object')\n"
     ]
    }
   ],
   "source": [
    "dataset = Amz_Dataset()\n",
    "users, items, edge_ratings = dataset.load(base_path=\"/Users/msinghal/SourceCodes/Personal/graphranko/Data/amazon-electronics-v4\")\n",
    "\n"
   ]
  },
  {
   "cell_type": "code",
   "execution_count": 5,
   "metadata": {},
   "outputs": [
    {
     "name": "stdout",
     "output_type": "stream",
     "text": [
      "number of users (1000, 1),  number of items (20742, 1041), number of user item rating (32899, 1046)\n"
     ]
    }
   ],
   "source": [
    "print(\"number of users {},  number of items {}, number of user item rating {}\".format(users.shape, items.shape, edge_ratings.shape))"
   ]
  },
  {
   "cell_type": "code",
   "execution_count": 6,
   "metadata": {},
   "outputs": [
    {
     "data": {
      "text/html": [
       "<div>\n",
       "<style scoped>\n",
       "    .dataframe tbody tr th:only-of-type {\n",
       "        vertical-align: middle;\n",
       "    }\n",
       "\n",
       "    .dataframe tbody tr th {\n",
       "        vertical-align: top;\n",
       "    }\n",
       "\n",
       "    .dataframe thead th {\n",
       "        text-align: right;\n",
       "    }\n",
       "</style>\n",
       "<table border=\"1\" class=\"dataframe\">\n",
       "  <thead>\n",
       "    <tr style=\"text-align: right;\">\n",
       "      <th></th>\n",
       "      <th>item</th>\n",
       "      <th>user</th>\n",
       "      <th>rating</th>\n",
       "      <th>user_id</th>\n",
       "      <th>item_id</th>\n",
       "      <th>Webbing finger loop</th>\n",
       "      <th>Premium quality SuperSpeed USB 3.0 Type A to A M/M device cables</th>\n",
       "      <th>Case stands for hands-free viewing</th>\n",
       "      <th>Camera Mounts &amp;amp; Clamps</th>\n",
       "      <th>1682 Ballistic Nylon</th>\n",
       "      <th>...</th>\n",
       "      <th>Gender Changers</th>\n",
       "      <th>36.1 centimeters high</th>\n",
       "      <th>Car Chargers</th>\n",
       "      <th>Infrared Filters</th>\n",
       "      <th>2 in 1 Laptops</th>\n",
       "      <th>DVD-VCR Combos</th>\n",
       "      <th>Camcorders</th>\n",
       "      <th>Cleaning &amp;amp; Repair</th>\n",
       "      <th>Dual elastic Touch fastener straps securely hold your tablet in place and prevent accidental drops</th>\n",
       "      <th>Simple design, fashionable and suitable for travel, school, cycle, shopping and sports</th>\n",
       "    </tr>\n",
       "  </thead>\n",
       "  <tbody>\n",
       "    <tr>\n",
       "      <th>0</th>\n",
       "      <td>0972683275</td>\n",
       "      <td>A11NR4AJK9TNQM</td>\n",
       "      <td>4.0</td>\n",
       "      <td>u_788</td>\n",
       "      <td>i_4927</td>\n",
       "      <td>0</td>\n",
       "      <td>0</td>\n",
       "      <td>0</td>\n",
       "      <td>0</td>\n",
       "      <td>0</td>\n",
       "      <td>...</td>\n",
       "      <td>0</td>\n",
       "      <td>0</td>\n",
       "      <td>0</td>\n",
       "      <td>0</td>\n",
       "      <td>0</td>\n",
       "      <td>0</td>\n",
       "      <td>0</td>\n",
       "      <td>0</td>\n",
       "      <td>0</td>\n",
       "      <td>0</td>\n",
       "    </tr>\n",
       "    <tr>\n",
       "      <th>1</th>\n",
       "      <td>B000HDJX2G</td>\n",
       "      <td>A11NR4AJK9TNQM</td>\n",
       "      <td>5.0</td>\n",
       "      <td>u_788</td>\n",
       "      <td>i_7214</td>\n",
       "      <td>0</td>\n",
       "      <td>0</td>\n",
       "      <td>0</td>\n",
       "      <td>0</td>\n",
       "      <td>0</td>\n",
       "      <td>...</td>\n",
       "      <td>0</td>\n",
       "      <td>0</td>\n",
       "      <td>0</td>\n",
       "      <td>0</td>\n",
       "      <td>0</td>\n",
       "      <td>0</td>\n",
       "      <td>0</td>\n",
       "      <td>0</td>\n",
       "      <td>0</td>\n",
       "      <td>0</td>\n",
       "    </tr>\n",
       "    <tr>\n",
       "      <th>2</th>\n",
       "      <td>B000JFH982</td>\n",
       "      <td>A11NR4AJK9TNQM</td>\n",
       "      <td>4.0</td>\n",
       "      <td>u_788</td>\n",
       "      <td>i_14781</td>\n",
       "      <td>0</td>\n",
       "      <td>0</td>\n",
       "      <td>0</td>\n",
       "      <td>0</td>\n",
       "      <td>0</td>\n",
       "      <td>...</td>\n",
       "      <td>0</td>\n",
       "      <td>0</td>\n",
       "      <td>0</td>\n",
       "      <td>0</td>\n",
       "      <td>0</td>\n",
       "      <td>0</td>\n",
       "      <td>0</td>\n",
       "      <td>0</td>\n",
       "      <td>0</td>\n",
       "      <td>0</td>\n",
       "    </tr>\n",
       "    <tr>\n",
       "      <th>3</th>\n",
       "      <td>B000KAB20W</td>\n",
       "      <td>A11NR4AJK9TNQM</td>\n",
       "      <td>3.0</td>\n",
       "      <td>u_788</td>\n",
       "      <td>i_2905</td>\n",
       "      <td>0</td>\n",
       "      <td>0</td>\n",
       "      <td>0</td>\n",
       "      <td>0</td>\n",
       "      <td>0</td>\n",
       "      <td>...</td>\n",
       "      <td>0</td>\n",
       "      <td>0</td>\n",
       "      <td>0</td>\n",
       "      <td>0</td>\n",
       "      <td>0</td>\n",
       "      <td>0</td>\n",
       "      <td>0</td>\n",
       "      <td>0</td>\n",
       "      <td>0</td>\n",
       "      <td>0</td>\n",
       "    </tr>\n",
       "    <tr>\n",
       "      <th>4</th>\n",
       "      <td>B000O0M5EA</td>\n",
       "      <td>A11NR4AJK9TNQM</td>\n",
       "      <td>4.0</td>\n",
       "      <td>u_788</td>\n",
       "      <td>i_2078</td>\n",
       "      <td>0</td>\n",
       "      <td>0</td>\n",
       "      <td>0</td>\n",
       "      <td>0</td>\n",
       "      <td>0</td>\n",
       "      <td>...</td>\n",
       "      <td>0</td>\n",
       "      <td>0</td>\n",
       "      <td>0</td>\n",
       "      <td>0</td>\n",
       "      <td>0</td>\n",
       "      <td>0</td>\n",
       "      <td>0</td>\n",
       "      <td>0</td>\n",
       "      <td>0</td>\n",
       "      <td>0</td>\n",
       "    </tr>\n",
       "  </tbody>\n",
       "</table>\n",
       "<p>5 rows × 1046 columns</p>\n",
       "</div>"
      ],
      "text/plain": [
       "         item            user  rating user_id  item_id  Webbing finger loop  \\\n",
       "0  0972683275  A11NR4AJK9TNQM     4.0   u_788   i_4927                    0   \n",
       "1  B000HDJX2G  A11NR4AJK9TNQM     5.0   u_788   i_7214                    0   \n",
       "2  B000JFH982  A11NR4AJK9TNQM     4.0   u_788  i_14781                    0   \n",
       "3  B000KAB20W  A11NR4AJK9TNQM     3.0   u_788   i_2905                    0   \n",
       "4  B000O0M5EA  A11NR4AJK9TNQM     4.0   u_788   i_2078                    0   \n",
       "\n",
       "   Premium quality SuperSpeed USB 3.0 Type A to A M/M device cables  \\\n",
       "0                                                  0                  \n",
       "1                                                  0                  \n",
       "2                                                  0                  \n",
       "3                                                  0                  \n",
       "4                                                  0                  \n",
       "\n",
       "   Case stands for hands-free viewing  Camera Mounts &amp; Clamps  \\\n",
       "0                                   0                           0   \n",
       "1                                   0                           0   \n",
       "2                                   0                           0   \n",
       "3                                   0                           0   \n",
       "4                                   0                           0   \n",
       "\n",
       "   1682 Ballistic Nylon  ...  Gender Changers  36.1 centimeters high  \\\n",
       "0                     0  ...                0                      0   \n",
       "1                     0  ...                0                      0   \n",
       "2                     0  ...                0                      0   \n",
       "3                     0  ...                0                      0   \n",
       "4                     0  ...                0                      0   \n",
       "\n",
       "   Car Chargers  Infrared Filters  2 in 1 Laptops  DVD-VCR Combos  Camcorders  \\\n",
       "0             0                 0               0               0           0   \n",
       "1             0                 0               0               0           0   \n",
       "2             0                 0               0               0           0   \n",
       "3             0                 0               0               0           0   \n",
       "4             0                 0               0               0           0   \n",
       "\n",
       "   Cleaning &amp; Repair  \\\n",
       "0                      0   \n",
       "1                      0   \n",
       "2                      0   \n",
       "3                      0   \n",
       "4                      0   \n",
       "\n",
       "   Dual elastic Touch fastener straps securely hold your tablet in place and prevent accidental drops  \\\n",
       "0                                                  0                                                    \n",
       "1                                                  0                                                    \n",
       "2                                                  0                                                    \n",
       "3                                                  0                                                    \n",
       "4                                                  0                                                    \n",
       "\n",
       "   Simple design, fashionable and suitable for travel, school, cycle, shopping and sports  \n",
       "0                                                  0                                       \n",
       "1                                                  0                                       \n",
       "2                                                  0                                       \n",
       "3                                                  0                                       \n",
       "4                                                  0                                       \n",
       "\n",
       "[5 rows x 1046 columns]"
      ]
     },
     "execution_count": 6,
     "metadata": {},
     "output_type": "execute_result"
    }
   ],
   "source": [
    "edge_ratings.head()"
   ]
  },
  {
   "cell_type": "markdown",
   "metadata": {},
   "source": [
    "# Split the edge dataset for train and test dataset using sklearn library"
   ]
  },
  {
   "cell_type": "code",
   "execution_count": 7,
   "metadata": {},
   "outputs": [],
   "source": [
    "from sklearn import model_selection\n",
    "edges_train, edges_test = model_selection.train_test_split(\n",
    "    edge_ratings, train_size=0.7, test_size=0.3\n",
    ")"
   ]
  },
  {
   "cell_type": "code",
   "execution_count": 8,
   "metadata": {},
   "outputs": [],
   "source": [
    "edgelist_train = list(edges_train[[\"user_id\", \"item_id\"]].itertuples(index=False))\n",
    "edgelist_test = list(edges_test[[\"user_id\", \"item_id\"]].itertuples(index=False))\n",
    "\n",
    "labels_train = edges_train[\"rating\"]\n",
    "labels_test = edges_test[\"rating\"]"
   ]
  },
  {
   "cell_type": "code",
   "execution_count": 9,
   "metadata": {},
   "outputs": [
    {
     "name": "stdout",
     "output_type": "stream",
     "text": [
      "training dataset (23029, 1046)\n",
      "test dataset (9870, 1046)\n"
     ]
    }
   ],
   "source": [
    "print(\"training dataset {}\".format(edges_train.shape))\n",
    "print(\"test dataset {}\".format(edges_test.shape))"
   ]
  },
  {
   "cell_type": "markdown",
   "metadata": {},
   "source": [
    "# Running GraphSage Model without MetaData"
   ]
  },
  {
   "cell_type": "markdown",
   "metadata": {},
   "source": [
    "## Graph Generation for Graph Neural Network Model"
   ]
  },
  {
   "cell_type": "code",
   "execution_count": 10,
   "metadata": {},
   "outputs": [],
   "source": [
    "??dataset"
   ]
  },
  {
   "cell_type": "code",
   "execution_count": 11,
   "metadata": {},
   "outputs": [],
   "source": [
    "graph_with_one_hoting_encoding = dataset.create_graph_for_training(users, items, edge_ratings, metadata=False)"
   ]
  },
  {
   "cell_type": "code",
   "execution_count": 12,
   "metadata": {},
   "outputs": [
    {
     "name": "stdout",
     "output_type": "stream",
     "text": [
      "--------Numer of Node and edges in Graph -----------\n",
      "Number of nodes in networkx graph 21742, number of eges 31931\n"
     ]
    }
   ],
   "source": [
    "print(\"--------Numer of Node and edges in Graph -----------\")\n",
    "print(\"Number of nodes in networkx graph {}, number of eges {}\".format(len(graph_with_one_hoting_encoding.nodes()), len(graph_with_one_hoting_encoding.edges())))"
   ]
  },
  {
   "cell_type": "code",
   "execution_count": 13,
   "metadata": {},
   "outputs": [
    {
     "name": "stdout",
     "output_type": "stream",
     "text": [
      "---- User Node Features --------\n"
     ]
    },
    {
     "data": {
      "text/plain": [
       "(1000, 1000)"
      ]
     },
     "execution_count": 13,
     "metadata": {},
     "output_type": "execute_result"
    }
   ],
   "source": [
    "print(\"---- User Node Features --------\")\n",
    "graph_with_one_hoting_encoding.node_features(node_type = 'user').shape"
   ]
  },
  {
   "cell_type": "code",
   "execution_count": 14,
   "metadata": {},
   "outputs": [
    {
     "name": "stdout",
     "output_type": "stream",
     "text": [
      "---- Item Node Features --------\n"
     ]
    },
    {
     "data": {
      "text/plain": [
       "(20742, 20742)"
      ]
     },
     "execution_count": 14,
     "metadata": {},
     "output_type": "execute_result"
    }
   ],
   "source": [
    "print(\"---- Item Node Features --------\")\n",
    "graph_with_one_hoting_encoding.node_features(node_type = 'item').shape"
   ]
  },
  {
   "cell_type": "markdown",
   "metadata": {},
   "source": [
    "## Compile GraphicoRango Model"
   ]
  },
  {
   "cell_type": "code",
   "execution_count": 15,
   "metadata": {},
   "outputs": [],
   "source": [
    "batch_size = 200\n",
    "epochs = 20\n",
    "num_samples = [8, 4]\n",
    "graphicoranko_without_metadata = GraphicoRango(edgelist_train, edgelist_test, labels_train, labels_test, epochs, batch_size, graph_with_one_hoting_encoding, num_samples)"
   ]
  },
  {
   "cell_type": "code",
   "execution_count": 16,
   "metadata": {},
   "outputs": [
    {
     "name": "stdout",
     "output_type": "stream",
     "text": [
      "{'item': [EdgeType(n1='item', rel='default', n2='user')], 'user': [EdgeType(n1='user', rel='default', n2='item')]}\n",
      "link_regression: using 'concat' method to combine node embeddings into edge embeddings\n",
      "Model: \"model\"\n",
      "__________________________________________________________________________________________________\n",
      "Layer (type)                    Output Shape         Param #     Connected to                     \n",
      "==================================================================================================\n",
      "input_3 (InputLayer)            [(None, 8, 20742)]   0                                            \n",
      "__________________________________________________________________________________________________\n",
      "input_5 (InputLayer)            [(None, 32, 1000)]   0                                            \n",
      "__________________________________________________________________________________________________\n",
      "input_6 (InputLayer)            [(None, 32, 20742)]  0                                            \n",
      "__________________________________________________________________________________________________\n",
      "input_1 (InputLayer)            [(None, 1, 1000)]    0                                            \n",
      "__________________________________________________________________________________________________\n",
      "reshape (Reshape)               (None, 1, 8, 20742)  0           input_3[0][0]                    \n",
      "__________________________________________________________________________________________________\n",
      "reshape_2 (Reshape)             (None, 8, 4, 1000)   0           input_5[0][0]                    \n",
      "__________________________________________________________________________________________________\n",
      "input_4 (InputLayer)            [(None, 8, 1000)]    0                                            \n",
      "__________________________________________________________________________________________________\n",
      "reshape_3 (Reshape)             (None, 8, 4, 20742)  0           input_6[0][0]                    \n",
      "__________________________________________________________________________________________________\n",
      "dropout_1 (Dropout)             (None, 1, 1000)      0           input_1[0][0]                    \n",
      "__________________________________________________________________________________________________\n",
      "dropout (Dropout)               (None, 1, 8, 20742)  0           reshape[0][0]                    \n",
      "__________________________________________________________________________________________________\n",
      "dropout_5 (Dropout)             (None, 8, 20742)     0           input_3[0][0]                    \n",
      "__________________________________________________________________________________________________\n",
      "dropout_4 (Dropout)             (None, 8, 4, 1000)   0           reshape_2[0][0]                  \n",
      "__________________________________________________________________________________________________\n",
      "input_2 (InputLayer)            [(None, 1, 20742)]   0                                            \n",
      "__________________________________________________________________________________________________\n",
      "reshape_1 (Reshape)             (None, 1, 8, 1000)   0           input_4[0][0]                    \n",
      "__________________________________________________________________________________________________\n",
      "dropout_7 (Dropout)             (None, 8, 1000)      0           input_4[0][0]                    \n",
      "__________________________________________________________________________________________________\n",
      "dropout_6 (Dropout)             (None, 8, 4, 20742)  0           reshape_3[0][0]                  \n",
      "__________________________________________________________________________________________________\n",
      "mean_hin_aggregator (MeanHinAgg multiple             347904      dropout_1[0][0]                  \n",
      "                                                                 dropout[0][0]                    \n",
      "                                                                 dropout_7[0][0]                  \n",
      "                                                                 dropout_6[0][0]                  \n",
      "__________________________________________________________________________________________________\n",
      "mean_hin_aggregator_1 (MeanHinA multiple             347904      dropout_3[0][0]                  \n",
      "                                                                 dropout_2[0][0]                  \n",
      "                                                                 dropout_5[0][0]                  \n",
      "                                                                 dropout_4[0][0]                  \n",
      "__________________________________________________________________________________________________\n",
      "dropout_3 (Dropout)             (None, 1, 20742)     0           input_2[0][0]                    \n",
      "__________________________________________________________________________________________________\n",
      "dropout_2 (Dropout)             (None, 1, 8, 1000)   0           reshape_1[0][0]                  \n",
      "__________________________________________________________________________________________________\n",
      "reshape_4 (Reshape)             (None, 1, 8, 32)     0           mean_hin_aggregator_1[1][0]      \n",
      "__________________________________________________________________________________________________\n",
      "reshape_5 (Reshape)             (None, 1, 8, 32)     0           mean_hin_aggregator[1][0]        \n",
      "__________________________________________________________________________________________________\n",
      "dropout_9 (Dropout)             (None, 1, 32)        0           mean_hin_aggregator[0][0]        \n",
      "__________________________________________________________________________________________________\n",
      "dropout_8 (Dropout)             (None, 1, 8, 32)     0           reshape_4[0][0]                  \n",
      "__________________________________________________________________________________________________\n",
      "dropout_11 (Dropout)            (None, 1, 32)        0           mean_hin_aggregator_1[0][0]      \n",
      "__________________________________________________________________________________________________\n",
      "dropout_10 (Dropout)            (None, 1, 8, 32)     0           reshape_5[0][0]                  \n",
      "__________________________________________________________________________________________________\n",
      "mean_hin_aggregator_2 (MeanHinA (None, 1, 32)        1056        dropout_9[0][0]                  \n",
      "                                                                 dropout_8[0][0]                  \n",
      "__________________________________________________________________________________________________\n",
      "mean_hin_aggregator_3 (MeanHinA (None, 1, 32)        1056        dropout_11[0][0]                 \n",
      "                                                                 dropout_10[0][0]                 \n",
      "__________________________________________________________________________________________________\n",
      "reshape_6 (Reshape)             (None, 32)           0           mean_hin_aggregator_2[0][0]      \n",
      "__________________________________________________________________________________________________\n",
      "reshape_7 (Reshape)             (None, 32)           0           mean_hin_aggregator_3[0][0]      \n",
      "__________________________________________________________________________________________________\n",
      "lambda (Lambda)                 (None, 32)           0           reshape_6[0][0]                  \n",
      "                                                                 reshape_7[0][0]                  \n",
      "__________________________________________________________________________________________________\n",
      "link_embedding (LinkEmbedding)  (None, 64)           0           lambda[0][0]                     \n",
      "                                                                 lambda[1][0]                     \n",
      "__________________________________________________________________________________________________\n",
      "dense (Dense)                   (None, 1)            65          link_embedding[0][0]             \n",
      "__________________________________________________________________________________________________\n",
      "reshape_8 (Reshape)             (None, 1)            0           dense[0][0]                      \n",
      "==================================================================================================\n",
      "Total params: 697,985\n",
      "Trainable params: 697,985\n",
      "Non-trainable params: 0\n",
      "__________________________________________________________________________________________________\n",
      "None\n"
     ]
    }
   ],
   "source": [
    "graphicoranko_without_metadata.compile()"
   ]
  },
  {
   "cell_type": "markdown",
   "metadata": {},
   "source": [
    "## Train Model"
   ]
  },
  {
   "cell_type": "code",
   "execution_count": 17,
   "metadata": {},
   "outputs": [
    {
     "name": "stdout",
     "output_type": "stream",
     "text": [
      "50/50 [==============================] - 26s 484ms/step - loss: 19.3200 - root_mean_square_error: 4.3952 - mean_absolute_error: 4.3085\n",
      "Untrained model's Test Evaluation:\n",
      "\tloss: 19.3555\n",
      "\troot_mean_square_error: 4.4006\n",
      "\tmean_absolute_error: 4.3146\n"
     ]
    }
   ],
   "source": [
    "## Before training Model accuracy\n",
    "\n",
    "test_metrics = graphicoranko_without_metadata.model.evaluate(\n",
    "    graphicoranko_without_metadata.test_gen, verbose=1, use_multiprocessing=False, workers=4\n",
    ")\n",
    "\n",
    "print(\"Untrained model's Test Evaluation:\")\n",
    "for name, val in zip(graphicoranko_without_metadata.model.metrics_names, test_metrics):\n",
    "    print(\"\\t{}: {:0.4f}\".format(name, val))"
   ]
  },
  {
   "cell_type": "code",
   "execution_count": 18,
   "metadata": {},
   "outputs": [
    {
     "name": "stdout",
     "output_type": "stream",
     "text": [
      "Epoch 1/20\n",
      "116/116 [==============================] - 120s 1s/step - loss: 1.4419 - root_mean_square_error: 1.0440 - mean_absolute_error: 0.8551 - val_loss: 0.6684 - val_root_mean_square_error: 0.8120 - val_mean_absolute_error: 0.5997\n",
      "Epoch 2/20\n",
      "116/116 [==============================] - 113s 969ms/step - loss: 0.5845 - root_mean_square_error: 0.7583 - mean_absolute_error: 0.5400 - val_loss: 0.6565 - val_root_mean_square_error: 0.8045 - val_mean_absolute_error: 0.5537\n",
      "Epoch 3/20\n",
      "116/116 [==============================] - 113s 969ms/step - loss: 0.4565 - root_mean_square_error: 0.6728 - mean_absolute_error: 0.4141 - val_loss: 0.6969 - val_root_mean_square_error: 0.8298 - val_mean_absolute_error: 0.5661\n",
      "Epoch 4/20\n",
      "116/116 [==============================] - 114s 983ms/step - loss: 0.3744 - root_mean_square_error: 0.6097 - mean_absolute_error: 0.3610 - val_loss: 0.7325 - val_root_mean_square_error: 0.8511 - val_mean_absolute_error: 0.5837\n",
      "Epoch 5/20\n",
      "116/116 [==============================] - 119s 1s/step - loss: 0.3427 - root_mean_square_error: 0.5782 - mean_absolute_error: 0.3442 - val_loss: 0.7468 - val_root_mean_square_error: 0.8587 - val_mean_absolute_error: 0.5826\n",
      "Epoch 6/20\n",
      "116/116 [==============================] - 115s 983ms/step - loss: 0.3163 - root_mean_square_error: 0.5581 - mean_absolute_error: 0.3313 - val_loss: 0.7767 - val_root_mean_square_error: 0.8770 - val_mean_absolute_error: 0.6156\n",
      "Epoch 7/20\n",
      "116/116 [==============================] - 116s 986ms/step - loss: 0.2986 - root_mean_square_error: 0.5418 - mean_absolute_error: 0.3194 - val_loss: 0.7902 - val_root_mean_square_error: 0.8843 - val_mean_absolute_error: 0.6326\n",
      "Epoch 8/20\n",
      "116/116 [==============================] - 120s 1s/step - loss: 0.2856 - root_mean_square_error: 0.5288 - mean_absolute_error: 0.3112 - val_loss: 0.7751 - val_root_mean_square_error: 0.8763 - val_mean_absolute_error: 0.6192\n",
      "Epoch 9/20\n",
      "116/116 [==============================] - 118s 1s/step - loss: 0.2764 - root_mean_square_error: 0.5249 - mean_absolute_error: 0.3035 - val_loss: 0.8222 - val_root_mean_square_error: 0.9027 - val_mean_absolute_error: 0.6558\n",
      "Epoch 10/20\n",
      "116/116 [==============================] - 116s 998ms/step - loss: 0.2679 - root_mean_square_error: 0.5126 - mean_absolute_error: 0.2975 - val_loss: 0.8143 - val_root_mean_square_error: 0.8977 - val_mean_absolute_error: 0.6507\n",
      "Epoch 11/20\n",
      "116/116 [==============================] - 121s 1s/step - loss: 0.2620 - root_mean_square_error: 0.5088 - mean_absolute_error: 0.2931 - val_loss: 0.8481 - val_root_mean_square_error: 0.9168 - val_mean_absolute_error: 0.6753\n",
      "Epoch 12/20\n",
      "116/116 [==============================] - 113s 970ms/step - loss: 0.2597 - root_mean_square_error: 0.5039 - mean_absolute_error: 0.2892 - val_loss: 0.8548 - val_root_mean_square_error: 0.9203 - val_mean_absolute_error: 0.6711\n",
      "Epoch 13/20\n",
      "116/116 [==============================] - 112s 961ms/step - loss: 0.2548 - root_mean_square_error: 0.5017 - mean_absolute_error: 0.2838 - val_loss: 0.8424 - val_root_mean_square_error: 0.9137 - val_mean_absolute_error: 0.6703\n",
      "Epoch 14/20\n",
      "116/116 [==============================] - 110s 940ms/step - loss: 0.2493 - root_mean_square_error: 0.4967 - mean_absolute_error: 0.2787 - val_loss: 0.8423 - val_root_mean_square_error: 0.9133 - val_mean_absolute_error: 0.6582\n",
      "Epoch 15/20\n",
      "116/116 [==============================] - 110s 940ms/step - loss: 0.2491 - root_mean_square_error: 0.4928 - mean_absolute_error: 0.2806 - val_loss: 0.8552 - val_root_mean_square_error: 0.9205 - val_mean_absolute_error: 0.6709\n",
      "Epoch 16/20\n",
      "116/116 [==============================] - 114s 979ms/step - loss: 0.2450 - root_mean_square_error: 0.4892 - mean_absolute_error: 0.2780 - val_loss: 0.8688 - val_root_mean_square_error: 0.9281 - val_mean_absolute_error: 0.6841\n",
      "Epoch 17/20\n",
      "116/116 [==============================] - 112s 953ms/step - loss: 0.2416 - root_mean_square_error: 0.4891 - mean_absolute_error: 0.2751 - val_loss: 0.8403 - val_root_mean_square_error: 0.9126 - val_mean_absolute_error: 0.6595\n",
      "Epoch 18/20\n",
      "116/116 [==============================] - 112s 960ms/step - loss: 0.2448 - root_mean_square_error: 0.4908 - mean_absolute_error: 0.2831 - val_loss: 0.8521 - val_root_mean_square_error: 0.9191 - val_mean_absolute_error: 0.6720\n",
      "Epoch 19/20\n",
      "116/116 [==============================] - 109s 928ms/step - loss: 0.2415 - root_mean_square_error: 0.4871 - mean_absolute_error: 0.2770 - val_loss: 0.8482 - val_root_mean_square_error: 0.9165 - val_mean_absolute_error: 0.6536\n",
      "Epoch 20/20\n",
      "116/116 [==============================] - 109s 933ms/step - loss: 0.2402 - root_mean_square_error: 0.4869 - mean_absolute_error: 0.2729 - val_loss: 0.8626 - val_root_mean_square_error: 0.9244 - val_mean_absolute_error: 0.6842\n"
     ]
    }
   ],
   "source": [
    "history = graphicoranko_without_metadata.train_model()"
   ]
  },
  {
   "cell_type": "code",
   "execution_count": 19,
   "metadata": {},
   "outputs": [
    {
     "data": {
      "image/png": "[encoded data removed]",
      "text/plain": [
       "<Figure size 504x864 with 3 Axes>"
      ]
     },
     "metadata": {
      "needs_background": "light"
     },
     "output_type": "display_data"
    }
   ],
   "source": [
    "sg.utils.plot_history(history)"
   ]
  },
  {
   "cell_type": "code",
   "execution_count": 20,
   "metadata": {},
   "outputs": [
    {
     "name": "stdout",
     "output_type": "stream",
     "text": [
      "50/50 [==============================] - 16s 309ms/step - loss: 0.8640 - root_mean_square_error: 0.9254 - mean_absolute_error: 0.6840\n",
      "Trained model's Test Evaluation:\n",
      "\tloss: 0.8640\n",
      "\troot_mean_square_error: 0.9254\n",
      "\tmean_absolute_error: 0.6840\n"
     ]
    }
   ],
   "source": [
    "## After Model Training Accuracy\n",
    "\n",
    "test_metrics = graphicoranko_without_metadata.model.evaluate(\n",
    "    graphicoranko_without_metadata.test_gen, verbose=1, use_multiprocessing=False, workers=4\n",
    ")\n",
    "\n",
    "print(\"Trained model's Test Evaluation:\")\n",
    "for name, val in zip(graphicoranko_without_metadata.model.metrics_names, test_metrics):\n",
    "    print(\"\\t{}: {:0.4f}\".format(name, val))"
   ]
  },
  {
   "cell_type": "markdown",
   "metadata": {},
   "source": [
    "## Model Validation"
   ]
  },
  {
   "cell_type": "code",
   "execution_count": 21,
   "metadata": {},
   "outputs": [
    {
     "name": "stdout",
     "output_type": "stream",
     "text": [
      "50/50 [==============================] - 16s 301ms/step - loss: 0.8611 - root_mean_square_error: 0.9237 - mean_absolute_error: 0.6834\n",
      "Test Evaluation:\n",
      "\tloss: 0.8611\n",
      "\troot_mean_square_error: 0.9237\n",
      "\tmean_absolute_error: 0.6834\n",
      "Mean Baseline Test set metrics:\n",
      "\troot_mean_square_error =  0.8387633071886186\n",
      "\tmean_absolute_error =  0.6390086396245367\n",
      "\n",
      "Model Test set metrics:\n",
      "\troot_mean_square_error =  0.9286191388633156\n",
      "\tmean_absolute_error =  0.6842190629443137\n"
     ]
    }
   ],
   "source": [
    "graphicoranko_without_metadata.validate_model_accuracy()"
   ]
  },
  {
   "cell_type": "code",
   "execution_count": 22,
   "metadata": {},
   "outputs": [
    {
     "name": "stdout",
     "output_type": "stream",
     "text": [
      "Mean Baseline Test set metrics:\n",
      "\troot_mean_square_error =  1.759674373487669\n",
      "\tmean_absolute_error =  1.6490374873353597\n",
      "\n",
      "Model Test set metrics:\n",
      "\troot_mean_square_error =  0.9296596925553711\n",
      "\tmean_absolute_error =  0.6839647777295523\n"
     ]
    }
   ],
   "source": [
    "y_true = labels_test\n",
    "# Predict the rankings using the model:\n",
    "y_pred = graphicoranko_without_metadata.model.predict(graphicoranko_without_metadata.test_gen)\n",
    "# Mean baseline rankings = mean movie ranking:\n",
    "y_pred_baseline = np.full_like(y_pred, 3)\n",
    "\n",
    "rmse = np.sqrt(mean_squared_error(y_true, y_pred_baseline))\n",
    "mae = mean_absolute_error(y_true, y_pred_baseline)\n",
    "print(\"Mean Baseline Test set metrics:\")\n",
    "print(\"\\troot_mean_square_error = \", rmse)\n",
    "print(\"\\tmean_absolute_error = \", mae)\n",
    "\n",
    "rmse = np.sqrt(mean_squared_error(y_true, y_pred))\n",
    "mae = mean_absolute_error(y_true, y_pred)\n",
    "print(\"\\nModel Test set metrics:\")\n",
    "print(\"\\troot_mean_square_error = \", rmse)\n",
    "print(\"\\tmean_absolute_error = \", mae)"
   ]
  },
  {
   "cell_type": "code",
   "execution_count": 23,
   "metadata": {},
   "outputs": [
    {
     "data": {
      "image/png": "[encoded data removed]",
      "text/plain": [
       "<Figure size 432x288 with 1 Axes>"
      ]
     },
     "metadata": {
      "needs_background": "light"
     },
     "output_type": "display_data"
    }
   ],
   "source": [
    "h_true = plt.hist(y_true, bins=30, facecolor=\"green\", alpha=0.5)\n",
    "h_pred = plt.hist(y_pred, bins=30, facecolor=\"blue\", alpha=0.5)\n",
    "plt.xlabel(\"ranking\")\n",
    "plt.ylabel(\"count\")\n",
    "plt.legend((\"True\", \"Predicted\"))\n",
    "plt.show()"
   ]
  },
  {
   "cell_type": "code",
   "execution_count": 24,
   "metadata": {},
   "outputs": [
    {
     "data": {
      "text/plain": [
       "5.0"
      ]
     },
     "execution_count": 24,
     "metadata": {},
     "output_type": "execute_result"
    }
   ],
   "source": [
    "np.mean(y_true[y_true == 5.0])"
   ]
  },
  {
   "cell_type": "code",
   "execution_count": null,
   "metadata": {},
   "outputs": [],
   "source": []
  },
  {
   "cell_type": "markdown",
   "metadata": {},
   "source": [
    "# Running HinSage Model with \"category\" as metadata "
   ]
  },
  {
   "cell_type": "markdown",
   "metadata": {},
   "source": [
    "## Graph Generation for Graph Neural Network Models\n"
   ]
  },
  {
   "cell_type": "code",
   "execution_count": 25,
   "metadata": {},
   "outputs": [],
   "source": [
    "graph_with_meta_encoding = dataset.create_graph_for_training(users, items, edge_ratings, metadata=True)\n"
   ]
  },
  {
   "cell_type": "code",
   "execution_count": 26,
   "metadata": {},
   "outputs": [
    {
     "name": "stdout",
     "output_type": "stream",
     "text": [
      "--------Numer of Node and edges in Graph -----------\n",
      "Number of nodes in networkx graph 21742, number of eges 31931\n"
     ]
    }
   ],
   "source": [
    "print(\"--------Numer of Node and edges in Graph -----------\")\n",
    "print(\"Number of nodes in networkx graph {}, number of eges {}\".format(len(graph_with_meta_encoding.nodes()), len(graph_with_meta_encoding.edges())))"
   ]
  },
  {
   "cell_type": "code",
   "execution_count": 27,
   "metadata": {},
   "outputs": [
    {
     "name": "stdout",
     "output_type": "stream",
     "text": [
      "---- User Node Features --------\n"
     ]
    },
    {
     "data": {
      "text/plain": [
       "(1000, 1000)"
      ]
     },
     "execution_count": 27,
     "metadata": {},
     "output_type": "execute_result"
    }
   ],
   "source": [
    "print(\"---- User Node Features --------\")\n",
    "graph_with_meta_encoding.node_features(node_type = 'user').shape"
   ]
  },
  {
   "cell_type": "code",
   "execution_count": 28,
   "metadata": {},
   "outputs": [
    {
     "name": "stdout",
     "output_type": "stream",
     "text": [
      "---- Item Node Features --------\n"
     ]
    },
    {
     "data": {
      "text/plain": [
       "(20742, 1041)"
      ]
     },
     "execution_count": 28,
     "metadata": {},
     "output_type": "execute_result"
    }
   ],
   "source": [
    "print(\"---- Item Node Features --------\")\n",
    "graph_with_meta_encoding.node_features(node_type = 'item').shape"
   ]
  },
  {
   "cell_type": "markdown",
   "metadata": {},
   "source": [
    "## Compile GraphicoRango Model with Metadata"
   ]
  },
  {
   "cell_type": "code",
   "execution_count": 29,
   "metadata": {},
   "outputs": [],
   "source": [
    "batch_size = 200\n",
    "epochs = 20\n",
    "num_samples = [8, 4]\n",
    "graphicoranko_with_metadata = GraphicoRango(edgelist_train, edgelist_test, labels_train, labels_test, epochs, batch_size, graph_with_one_hoting_encoding, num_samples)"
   ]
  },
  {
   "cell_type": "code",
   "execution_count": 30,
   "metadata": {},
   "outputs": [
    {
     "name": "stdout",
     "output_type": "stream",
     "text": [
      "{'item': [EdgeType(n1='item', rel='default', n2='user')], 'user': [EdgeType(n1='user', rel='default', n2='item')]}\n",
      "link_regression: using 'concat' method to combine node embeddings into edge embeddings\n",
      "Model: \"model_1\"\n",
      "__________________________________________________________________________________________________\n",
      "Layer (type)                    Output Shape         Param #     Connected to                     \n",
      "==================================================================================================\n",
      "input_9 (InputLayer)            [(None, 8, 20742)]   0                                            \n",
      "__________________________________________________________________________________________________\n",
      "input_11 (InputLayer)           [(None, 32, 1000)]   0                                            \n",
      "__________________________________________________________________________________________________\n",
      "input_12 (InputLayer)           [(None, 32, 20742)]  0                                            \n",
      "__________________________________________________________________________________________________\n",
      "input_7 (InputLayer)            [(None, 1, 1000)]    0                                            \n",
      "__________________________________________________________________________________________________\n",
      "reshape_9 (Reshape)             (None, 1, 8, 20742)  0           input_9[0][0]                    \n",
      "__________________________________________________________________________________________________\n",
      "reshape_11 (Reshape)            (None, 8, 4, 1000)   0           input_11[0][0]                   \n",
      "__________________________________________________________________________________________________\n",
      "input_10 (InputLayer)           [(None, 8, 1000)]    0                                            \n",
      "__________________________________________________________________________________________________\n",
      "reshape_12 (Reshape)            (None, 8, 4, 20742)  0           input_12[0][0]                   \n",
      "__________________________________________________________________________________________________\n",
      "dropout_13 (Dropout)            (None, 1, 1000)      0           input_7[0][0]                    \n",
      "__________________________________________________________________________________________________\n",
      "dropout_12 (Dropout)            (None, 1, 8, 20742)  0           reshape_9[0][0]                  \n",
      "__________________________________________________________________________________________________\n",
      "dropout_17 (Dropout)            (None, 8, 20742)     0           input_9[0][0]                    \n",
      "__________________________________________________________________________________________________\n",
      "dropout_16 (Dropout)            (None, 8, 4, 1000)   0           reshape_11[0][0]                 \n",
      "__________________________________________________________________________________________________\n",
      "input_8 (InputLayer)            [(None, 1, 20742)]   0                                            \n",
      "__________________________________________________________________________________________________\n",
      "reshape_10 (Reshape)            (None, 1, 8, 1000)   0           input_10[0][0]                   \n",
      "__________________________________________________________________________________________________\n",
      "dropout_19 (Dropout)            (None, 8, 1000)      0           input_10[0][0]                   \n",
      "__________________________________________________________________________________________________\n",
      "dropout_18 (Dropout)            (None, 8, 4, 20742)  0           reshape_12[0][0]                 \n",
      "__________________________________________________________________________________________________\n",
      "mean_hin_aggregator_4 (MeanHinA multiple             347904      dropout_13[0][0]                 \n",
      "                                                                 dropout_12[0][0]                 \n",
      "                                                                 dropout_19[0][0]                 \n",
      "                                                                 dropout_18[0][0]                 \n",
      "__________________________________________________________________________________________________\n",
      "mean_hin_aggregator_5 (MeanHinA multiple             347904      dropout_15[0][0]                 \n",
      "                                                                 dropout_14[0][0]                 \n",
      "                                                                 dropout_17[0][0]                 \n",
      "                                                                 dropout_16[0][0]                 \n",
      "__________________________________________________________________________________________________\n",
      "dropout_15 (Dropout)            (None, 1, 20742)     0           input_8[0][0]                    \n",
      "__________________________________________________________________________________________________\n",
      "dropout_14 (Dropout)            (None, 1, 8, 1000)   0           reshape_10[0][0]                 \n",
      "__________________________________________________________________________________________________\n",
      "reshape_13 (Reshape)            (None, 1, 8, 32)     0           mean_hin_aggregator_5[1][0]      \n",
      "__________________________________________________________________________________________________\n",
      "reshape_14 (Reshape)            (None, 1, 8, 32)     0           mean_hin_aggregator_4[1][0]      \n",
      "__________________________________________________________________________________________________\n",
      "dropout_21 (Dropout)            (None, 1, 32)        0           mean_hin_aggregator_4[0][0]      \n",
      "__________________________________________________________________________________________________\n",
      "dropout_20 (Dropout)            (None, 1, 8, 32)     0           reshape_13[0][0]                 \n",
      "__________________________________________________________________________________________________\n",
      "dropout_23 (Dropout)            (None, 1, 32)        0           mean_hin_aggregator_5[0][0]      \n",
      "__________________________________________________________________________________________________\n",
      "dropout_22 (Dropout)            (None, 1, 8, 32)     0           reshape_14[0][0]                 \n",
      "__________________________________________________________________________________________________\n",
      "mean_hin_aggregator_6 (MeanHinA (None, 1, 32)        1056        dropout_21[0][0]                 \n",
      "                                                                 dropout_20[0][0]                 \n",
      "__________________________________________________________________________________________________\n",
      "mean_hin_aggregator_7 (MeanHinA (None, 1, 32)        1056        dropout_23[0][0]                 \n",
      "                                                                 dropout_22[0][0]                 \n",
      "__________________________________________________________________________________________________\n",
      "reshape_15 (Reshape)            (None, 32)           0           mean_hin_aggregator_6[0][0]      \n",
      "__________________________________________________________________________________________________\n",
      "reshape_16 (Reshape)            (None, 32)           0           mean_hin_aggregator_7[0][0]      \n",
      "__________________________________________________________________________________________________\n",
      "lambda_1 (Lambda)               (None, 32)           0           reshape_15[0][0]                 \n",
      "                                                                 reshape_16[0][0]                 \n",
      "__________________________________________________________________________________________________\n",
      "link_embedding_1 (LinkEmbedding (None, 64)           0           lambda_1[0][0]                   \n",
      "                                                                 lambda_1[1][0]                   \n",
      "__________________________________________________________________________________________________\n",
      "dense_1 (Dense)                 (None, 1)            65          link_embedding_1[0][0]           \n",
      "__________________________________________________________________________________________________\n",
      "reshape_17 (Reshape)            (None, 1)            0           dense_1[0][0]                    \n",
      "==================================================================================================\n",
      "Total params: 697,985\n",
      "Trainable params: 697,985\n",
      "Non-trainable params: 0\n",
      "__________________________________________________________________________________________________\n",
      "None\n"
     ]
    }
   ],
   "source": [
    "graphicoranko_with_metadata.compile()"
   ]
  },
  {
   "cell_type": "markdown",
   "metadata": {},
   "source": [
    "## Train Model"
   ]
  },
  {
   "cell_type": "code",
   "execution_count": 31,
   "metadata": {},
   "outputs": [
    {
     "name": "stdout",
     "output_type": "stream",
     "text": [
      "50/50 [==============================] - 16s 302ms/step - loss: 21.6678 - root_mean_square_error: 4.6546 - mean_absolute_error: 4.5726\n",
      "Untrained model's Test Evaluation:\n",
      "\tloss: 21.6746\n",
      "\troot_mean_square_error: 4.6560\n",
      "\tmean_absolute_error: 4.5757\n"
     ]
    }
   ],
   "source": [
    "## Before training Model accuracy\n",
    "\n",
    "test_metrics = graphicoranko_with_metadata.model.evaluate(\n",
    "    graphicoranko_with_metadata.test_gen, verbose=1, use_multiprocessing=False, workers=4\n",
    ")\n",
    "\n",
    "print(\"Untrained model's Test Evaluation:\")\n",
    "for name, val in zip(graphicoranko_with_metadata.model.metrics_names, test_metrics):\n",
    "    print(\"\\t{}: {:0.4f}\".format(name, val))"
   ]
  },
  {
   "cell_type": "code",
   "execution_count": 32,
   "metadata": {},
   "outputs": [
    {
     "name": "stdout",
     "output_type": "stream",
     "text": [
      "Epoch 1/20\n",
      "116/116 [==============================] - 113s 964ms/step - loss: 1.4266 - root_mean_square_error: 1.0353 - mean_absolute_error: 0.8503 - val_loss: 0.6654 - val_root_mean_square_error: 0.8097 - val_mean_absolute_error: 0.5919\n",
      "Epoch 2/20\n",
      "116/116 [==============================] - 114s 979ms/step - loss: 0.5906 - root_mean_square_error: 0.7635 - mean_absolute_error: 0.5408 - val_loss: 0.6575 - val_root_mean_square_error: 0.8054 - val_mean_absolute_error: 0.5725\n",
      "Epoch 3/20\n",
      "116/116 [==============================] - 119s 1s/step - loss: 0.4445 - root_mean_square_error: 0.6618 - mean_absolute_error: 0.4031 - val_loss: 0.7039 - val_root_mean_square_error: 0.8342 - val_mean_absolute_error: 0.5917\n",
      "Epoch 4/20\n",
      "116/116 [==============================] - 122s 1s/step - loss: 0.3593 - root_mean_square_error: 0.5952 - mean_absolute_error: 0.3478 - val_loss: 0.7819 - val_root_mean_square_error: 0.8800 - val_mean_absolute_error: 0.6302\n",
      "Epoch 5/20\n",
      "116/116 [==============================] - 129s 1s/step - loss: 0.3241 - root_mean_square_error: 0.5654 - mean_absolute_error: 0.3270 - val_loss: 0.8066 - val_root_mean_square_error: 0.8943 - val_mean_absolute_error: 0.6382\n",
      "Epoch 6/20\n",
      "116/116 [==============================] - 136s 1s/step - loss: 0.3012 - root_mean_square_error: 0.5434 - mean_absolute_error: 0.3151 - val_loss: 0.8086 - val_root_mean_square_error: 0.8951 - val_mean_absolute_error: 0.6317\n",
      "Epoch 7/20\n",
      "116/116 [==============================] - 139s 1s/step - loss: 0.2854 - root_mean_square_error: 0.5308 - mean_absolute_error: 0.3055 - val_loss: 0.8522 - val_root_mean_square_error: 0.9197 - val_mean_absolute_error: 0.6649\n",
      "Epoch 8/20\n",
      "116/116 [==============================] - 141s 1s/step - loss: 0.2751 - root_mean_square_error: 0.5209 - mean_absolute_error: 0.2986 - val_loss: 0.8675 - val_root_mean_square_error: 0.9280 - val_mean_absolute_error: 0.6798\n",
      "Epoch 9/20\n",
      "116/116 [==============================] - 141s 1s/step - loss: 0.2684 - root_mean_square_error: 0.5157 - mean_absolute_error: 0.2947 - val_loss: 0.9213 - val_root_mean_square_error: 0.9563 - val_mean_absolute_error: 0.7094\n",
      "Epoch 10/20\n",
      "116/116 [==============================] - 147s 1s/step - loss: 0.2630 - root_mean_square_error: 0.5088 - mean_absolute_error: 0.2923 - val_loss: 0.9089 - val_root_mean_square_error: 0.9501 - val_mean_absolute_error: 0.7216\n",
      "Epoch 11/20\n",
      "116/116 [==============================] - 144s 1s/step - loss: 0.2588 - root_mean_square_error: 0.5016 - mean_absolute_error: 0.2882 - val_loss: 0.8789 - val_root_mean_square_error: 0.9338 - val_mean_absolute_error: 0.6762\n",
      "Epoch 12/20\n",
      "116/116 [==============================] - 155s 1s/step - loss: 0.2520 - root_mean_square_error: 0.4989 - mean_absolute_error: 0.2815 - val_loss: 0.9075 - val_root_mean_square_error: 0.9493 - val_mean_absolute_error: 0.7118\n",
      "Epoch 13/20\n",
      "116/116 [==============================] - 162s 1s/step - loss: 0.2505 - root_mean_square_error: 0.4960 - mean_absolute_error: 0.2815 - val_loss: 0.8569 - val_root_mean_square_error: 0.9214 - val_mean_absolute_error: 0.6576\n",
      "Epoch 14/20\n",
      "116/116 [==============================] - 170s 1s/step - loss: 0.2470 - root_mean_square_error: 0.4910 - mean_absolute_error: 0.2774 - val_loss: 0.9246 - val_root_mean_square_error: 0.9578 - val_mean_absolute_error: 0.6984\n",
      "Epoch 15/20\n",
      "116/116 [==============================] - 167s 1s/step - loss: 0.2434 - root_mean_square_error: 0.4890 - mean_absolute_error: 0.2746 - val_loss: 0.8529 - val_root_mean_square_error: 0.9190 - val_mean_absolute_error: 0.6499\n",
      "Epoch 16/20\n",
      "116/116 [==============================] - 176s 2s/step - loss: 0.2432 - root_mean_square_error: 0.4902 - mean_absolute_error: 0.2771 - val_loss: 0.8823 - val_root_mean_square_error: 0.9353 - val_mean_absolute_error: 0.6753\n",
      "Epoch 17/20\n",
      "116/116 [==============================] - 173s 1s/step - loss: 0.2401 - root_mean_square_error: 0.4876 - mean_absolute_error: 0.2734 - val_loss: 0.9062 - val_root_mean_square_error: 0.9476 - val_mean_absolute_error: 0.6818\n",
      "Epoch 18/20\n",
      "116/116 [==============================] - 167s 1s/step - loss: 0.2396 - root_mean_square_error: 0.4867 - mean_absolute_error: 0.2715 - val_loss: 0.9378 - val_root_mean_square_error: 0.9641 - val_mean_absolute_error: 0.7106\n",
      "Epoch 19/20\n",
      "116/116 [==============================] - 168s 1s/step - loss: 0.2374 - root_mean_square_error: 0.4842 - mean_absolute_error: 0.2712 - val_loss: 0.9434 - val_root_mean_square_error: 0.9671 - val_mean_absolute_error: 0.7099\n",
      "Epoch 20/20\n",
      "116/116 [==============================] - 169s 1s/step - loss: 0.2379 - root_mean_square_error: 0.4862 - mean_absolute_error: 0.2733 - val_loss: 0.9071 - val_root_mean_square_error: 0.9485 - val_mean_absolute_error: 0.6921\n"
     ]
    }
   ],
   "source": [
    "history = graphicoranko_with_metadata.train_model()"
   ]
  },
  {
   "cell_type": "code",
   "execution_count": 33,
   "metadata": {},
   "outputs": [
    {
     "data": {
      "image/png": "[encoded data removed]",
      "text/plain": [
       "<Figure size 504x864 with 3 Axes>"
      ]
     },
     "metadata": {
      "needs_background": "light"
     },
     "output_type": "display_data"
    }
   ],
   "source": [
    "# Print History\n",
    "sg.utils.plot_history(history)"
   ]
  },
  {
   "cell_type": "code",
   "execution_count": 34,
   "metadata": {},
   "outputs": [
    {
     "name": "stdout",
     "output_type": "stream",
     "text": [
      "50/50 [==============================] - 25s 480ms/step - loss: 0.9049 - root_mean_square_error: 0.9473 - mean_absolute_error: 0.6920\n",
      "Trained model's Test Evaluation:\n",
      "\tloss: 0.9049\n",
      "\troot_mean_square_error: 0.9473\n",
      "\tmean_absolute_error: 0.6920\n"
     ]
    }
   ],
   "source": [
    "## After Model Training Accuracy\n",
    "\n",
    "test_metrics = graphicoranko_with_metadata.model.evaluate(\n",
    "    graphicoranko_with_metadata.test_gen, verbose=1, use_multiprocessing=False, workers=4\n",
    ")\n",
    "\n",
    "print(\"Trained model's Test Evaluation:\")\n",
    "for name, val in zip(graphicoranko_with_metadata.model.metrics_names, test_metrics):\n",
    "    print(\"\\t{}: {:0.4f}\".format(name, val))"
   ]
  },
  {
   "cell_type": "markdown",
   "metadata": {},
   "source": [
    "## Model Validation"
   ]
  },
  {
   "cell_type": "code",
   "execution_count": 35,
   "metadata": {},
   "outputs": [
    {
     "name": "stdout",
     "output_type": "stream",
     "text": [
      "50/50 [==============================] - 23s 455ms/step - loss: 0.9029 - root_mean_square_error: 0.9463 - mean_absolute_error: 0.6908\n",
      "Test Evaluation:\n",
      "\tloss: 0.9029\n",
      "\troot_mean_square_error: 0.9463\n",
      "\tmean_absolute_error: 0.6908\n",
      "Mean Baseline Test set metrics:\n",
      "\troot_mean_square_error =  0.8387633071886186\n",
      "\tmean_absolute_error =  0.6390086396245367\n",
      "\n",
      "Model Test set metrics:\n",
      "\troot_mean_square_error =  0.9514469607796283\n",
      "\tmean_absolute_error =  0.6920287059312412\n"
     ]
    }
   ],
   "source": [
    "graphicoranko_with_metadata.validate_model_accuracy()"
   ]
  },
  {
   "cell_type": "code",
   "execution_count": 39,
   "metadata": {},
   "outputs": [
    {
     "name": "stdout",
     "output_type": "stream",
     "text": [
      "Mean Baseline Test set metrics:\n",
      "\troot_mean_square_error =  1.759674373487669\n",
      "\tmean_absolute_error =  1.6490374873353597\n",
      "\n",
      "Model Test set metrics:\n",
      "\troot_mean_square_error =  0.9513726871393382\n",
      "\tmean_absolute_error =  0.6925992087148727\n"
     ]
    }
   ],
   "source": [
    "y_true = labels_test\n",
    "# Predict the rankings using the model:\n",
    "y_pred = graphicoranko_with_metadata.model.predict(graphicoranko_with_metadata.test_gen)\n",
    "# Mean baseline rankings = mean movie ranking:\n",
    "y_pred_baseline = np.full_like(y_pred, 3)\n",
    "\n",
    "rmse = np.sqrt(mean_squared_error(y_true, y_pred_baseline))\n",
    "mae = mean_absolute_error(y_true, y_pred_baseline)\n",
    "print(\"Mean Baseline Test set metrics:\")\n",
    "print(\"\\troot_mean_square_error = \", rmse)\n",
    "print(\"\\tmean_absolute_error = \", mae)\n",
    "\n",
    "rmse = np.sqrt(mean_squared_error(y_true, y_pred))\n",
    "mae = mean_absolute_error(y_true, y_pred)\n",
    "print(\"\\nModel Test set metrics:\")\n",
    "print(\"\\troot_mean_square_error = \", rmse)\n",
    "print(\"\\tmean_absolute_error = \", mae)"
   ]
  },
  {
   "cell_type": "code",
   "execution_count": 37,
   "metadata": {},
   "outputs": [
    {
     "data": {
      "image/png": "[encoded data removed]",
      "text/plain": [
       "<Figure size 432x288 with 1 Axes>"
      ]
     },
     "metadata": {
      "needs_background": "light"
     },
     "output_type": "display_data"
    }
   ],
   "source": [
    "h_true = plt.hist(y_true, bins=30, facecolor=\"green\", alpha=0.5)\n",
    "h_pred = plt.hist(y_pred, bins=30, facecolor=\"blue\", alpha=0.5)\n",
    "plt.xlabel(\"ranking\")\n",
    "plt.ylabel(\"count\")\n",
    "plt.legend((\"True\", \"Predicted\"))\n",
    "plt.show()"
   ]
  },
  {
   "cell_type": "code",
   "execution_count": null,
   "metadata": {},
   "outputs": [],
   "source": []
  },
  {
   "cell_type": "code",
   "execution_count": null,
   "metadata": {},
   "outputs": [],
   "source": []
  }
 ],
 "metadata": {
  "kernelspec": {
   "display_name": "Python 3",
   "language": "python",
   "name": "python3"
  },
  "language_info": {
   "codemirror_mode": {
    "name": "ipython",
    "version": 3
   },
   "file_extension": ".py",
   "mimetype": "text/x-python",
   "name": "python",
   "nbconvert_exporter": "python",
   "pygments_lexer": "ipython3",
   "version": "3.8.5"
  }
 },
 "nbformat": 4,
 "nbformat_minor": 4
}
